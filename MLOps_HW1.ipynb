{
 "cells": [
  {
   "cell_type": "markdown",
   "id": "ab764b1e-76e4-43e7-9682-0a0774e8ebe1",
   "metadata": {},
   "source": [
    "<a id='Problem'></a>\n",
    "<h1 style=\"color:#ffffff; background-color:#FF0000; border: 1px solid #ffffff; padding: 10px 0;\">Title: Descriptive Analysis of VTuber Engagement Using Kaggle Data</h1>"
   ]
  },
  {
   "cell_type": "markdown",
   "id": "12ca549d-8b05-4fd7-b51d-60ed674d84ed",
   "metadata": {},
   "source": [
    "The rise of VTubers, or virtual YouTubers, has become a significant cultural phenomenon, captivating millions of viewers worldwide. However, despite their immense popularity, there is limited understanding of the underlying metrics that drive engagement and define viewership trends in this unique digital space. The purpose of this descriptive analysis is to investigate key patterns in VTuber content creation, viewer demographics, and engagement across major social platforms to offer insights into the factors fueling the VTuber industry's growth.\n",
    "\n",
    "This analysis leverages the VTuber 1B Dataset, a vast repository containing over 58 million data points, including live chat messages, superchat donations, and moderation events spanning 377 VTuber channels. By analyzing this extensive dataset, we aim to decode audience engagement behaviors, track financial contributions through superchats, and assess real-time interactions within VTuber live streams."
   ]
  },
  {
   "cell_type": "markdown",
   "id": "95be2b74-3129-4fb0-bd13-626066fe7def",
   "metadata": {
    "execution": {
     "iopub.execute_input": "2024-11-04T11:00:55.649019Z",
     "iopub.status.busy": "2024-11-04T11:00:55.648304Z",
     "iopub.status.idle": "2024-11-04T11:00:55.658169Z",
     "shell.execute_reply": "2024-11-04T11:00:55.656360Z",
     "shell.execute_reply.started": "2024-11-04T11:00:55.648957Z"
    }
   },
   "source": [
    "<a id='Problem'></a>\n",
    "<h1 style=\"color:#ffffff; background-color:#FF0000; border: 1px solid #ffffff; padding: 10px 0;\">I. Problem Statement</h1>"
   ]
  },
  {
   "cell_type": "markdown",
   "id": "8c0bf751-3730-462f-94c8-2a9a413cb8cd",
   "metadata": {},
   "source": [
    "The VTuber industry has rapidly transformed from a niche trend into a major entertainment sector, drawing millions of fans globally. With the advent of virtual avatars as content creators, VTubers offer a unique viewing experience that combines animation, interactivity, and traditional streaming dynamics. However, despite the substantial and growing audience base, there is limited research into the specific engagement metrics that define their popularity. The objective of this descriptive analysis is to uncover trends related to VTuber content creation, viewer demographics, and platform engagement using available data."
   ]
  },
  {
   "cell_type": "markdown",
   "id": "5dfe7d4d-af00-4a0e-b284-d2ddd747d370",
   "metadata": {
    "execution": {
     "iopub.execute_input": "2024-11-04T11:32:13.907113Z",
     "iopub.status.busy": "2024-11-04T11:32:13.906404Z",
     "iopub.status.idle": "2024-11-04T11:32:13.916497Z",
     "shell.execute_reply": "2024-11-04T11:32:13.914417Z",
     "shell.execute_reply.started": "2024-11-04T11:32:13.907050Z"
    }
   },
   "source": [
    "<a id='Problem'></a>\n",
    "<h1 style=\"color:#ffffff; background-color:#FF0000; border: 1px solid #ffffff; padding: 10px 0;\">II. Datasets</h1>"
   ]
  },
  {
   "cell_type": "markdown",
   "id": "fa677ca7-4c93-4430-a6d6-2b8d5f9191b8",
   "metadata": {},
   "source": [
    "VTuber 1B is a dataset for large-scale academic research, collecting over a billion live chats, superchats, and moderation events (bans/deletions) from virtual YouTubers' live streams.  This data captures viewer engagement patterns, financial contributions through superchats, and real-time interactions within VTuber live streams.\n",
    "\n",
    "The Honeybee cluster is used to gather real-time live chat events from major VTubers' live streams. To protect user privacy, sensitive information such as author names and profile images are excluded from the dataset, and author channel IDs are anonymized using the SHA-1 hashing algorithm with an added layer of security.\n",
    "\n",
    "VTuber 1B: VTuber 1B is most suitable for frequency analysis. This edition includes only the essential columns in order to reduce dataset size and make it faster fro Kaggle Kernels to load data in. Ban and deletion are equivalent to markChatItemsByAuthorAsDeletedAction and markChatItemAsDeletedAction respectively.\n",
    "\n",
    "    | Filename                   | Summary                          |\n",
    "    |----------------------------|----------------------------------|\n",
    "    | chats_%Y-%m.parquet        | Live chat events (> 1,000,000,000) |\n",
    "    | superchats_%Y-%m.parquet   | Super chat events (> 4,000,000) |\n",
    "    | deletion_events.parquet    | Deletion events                 |\n",
    "    | ban_events.parquet         | Ban events                      |"
   ]
  },
  {
   "cell_type": "markdown",
   "id": "8a989ed9-2e46-4bc9-9ad8-cb2a0d866e2d",
   "metadata": {},
   "source": [
    "<a id='Problem'></a>\n",
    "<h1 style=\"color:#ffffff; background-color:#FF0000; border: 1px solid #ffffff; padding: 10px 0;\">III. Methodology</h1>"
   ]
  },
  {
   "cell_type": "markdown",
   "id": "c6dc0ab5-d36f-4a59-820f-71f9e089d3d4",
   "metadata": {},
   "source": [
    "### 1. Data Pre-processing and Initialization"
   ]
  },
  {
   "cell_type": "markdown",
   "id": "9c6a5a0c-c7a4-44f9-84e2-b40b711b36ff",
   "metadata": {},
   "source": [
    "These three imports together provide the tools needed to load, manipulate, and visualize data effectively in Python. `pandas` handles the data, while `matplotlib` and `seaborn` offer options for visualization. Furthermore, Shown isthe display of the disk usage of each file or subdirectory inside /mnt/data/public/vtuber/ in a human-readable format, along with a total of all sizes combined at the end."
   ]
  },
  {
   "cell_type": "code",
   "execution_count": 1,
   "id": "735d540d-afd9-4453-b045-fcc8b7bef789",
   "metadata": {
    "execution": {
     "iopub.execute_input": "2024-11-04T15:18:54.272246Z",
     "iopub.status.busy": "2024-11-04T15:18:54.272042Z",
     "iopub.status.idle": "2024-11-04T15:18:55.529171Z",
     "shell.execute_reply": "2024-11-04T15:18:55.528202Z",
     "shell.execute_reply.started": "2024-11-04T15:18:54.272226Z"
    }
   },
   "outputs": [],
   "source": [
    "import pandas as pd\n",
    "import matplotlib.pyplot as plt\n",
    "import seaborn as sns"
   ]
  },
  {
   "cell_type": "code",
   "execution_count": 2,
   "id": "583547ce-0756-4267-b6e4-4f138aea5d98",
   "metadata": {
    "execution": {
     "iopub.execute_input": "2024-11-04T15:18:55.530270Z",
     "iopub.status.busy": "2024-11-04T15:18:55.529964Z",
     "iopub.status.idle": "2024-11-04T15:18:55.687179Z",
     "shell.execute_reply": "2024-11-04T15:18:55.685346Z",
     "shell.execute_reply.started": "2024-11-04T15:18:55.530249Z"
    }
   },
   "outputs": [
    {
     "name": "stdout",
     "output_type": "stream",
     "text": [
      "26M\t/mnt/data/public/vtuber/ban_events.parquet\n",
      "65M\t/mnt/data/public/vtuber/chats_2021-01.parquet\n",
      "1.3G\t/mnt/data/public/vtuber/chats_2021-02.parquet\n",
      "2.8G\t/mnt/data/public/vtuber/chats_2021-03.parquet\n",
      "2.7G\t/mnt/data/public/vtuber/chats_2021-04.parquet\n",
      "3.2G\t/mnt/data/public/vtuber/chats_2021-05.parquet\n",
      "3.2G\t/mnt/data/public/vtuber/chats_2021-06.parquet\n",
      "3.4G\t/mnt/data/public/vtuber/chats_2021-07.parquet\n",
      "4.3G\t/mnt/data/public/vtuber/chats_2021-08.parquet\n",
      "3.8G\t/mnt/data/public/vtuber/chats_2021-09.parquet\n",
      "3.6G\t/mnt/data/public/vtuber/chats_2021-10.parquet\n",
      "3.5G\t/mnt/data/public/vtuber/chats_2021-11.parquet\n",
      "7.7G\t/mnt/data/public/vtuber/chats_2021-12.parquet\n",
      "4.3G\t/mnt/data/public/vtuber/chats_2022-01.parquet\n",
      "3.8G\t/mnt/data/public/vtuber/chats_2022-02.parquet\n",
      "4.3G\t/mnt/data/public/vtuber/chats_2022-03.parquet\n",
      "4.5G\t/mnt/data/public/vtuber/chats_2022-04.parquet\n",
      "4.4G\t/mnt/data/public/vtuber/chats_2022-05.parquet\n",
      "4.1G\t/mnt/data/public/vtuber/chats_2022-06.parquet\n",
      "4.6G\t/mnt/data/public/vtuber/chats_2022-07.parquet\n",
      "228M\t/mnt/data/public/vtuber/deletion_events.parquet\n",
      "5.1M\t/mnt/data/public/vtuber/superchats_2021-03.parquet\n",
      "13M\t/mnt/data/public/vtuber/superchats_2021-04.parquet\n",
      "15M\t/mnt/data/public/vtuber/superchats_2021-05.parquet\n",
      "16M\t/mnt/data/public/vtuber/superchats_2021-06.parquet\n",
      "16M\t/mnt/data/public/vtuber/superchats_2021-07.parquet\n",
      "18M\t/mnt/data/public/vtuber/superchats_2021-08.parquet\n",
      "18M\t/mnt/data/public/vtuber/superchats_2021-09.parquet\n",
      "16M\t/mnt/data/public/vtuber/superchats_2021-10.parquet\n",
      "15M\t/mnt/data/public/vtuber/superchats_2021-11.parquet\n",
      "25M\t/mnt/data/public/vtuber/superchats_2021-12.parquet\n",
      "19M\t/mnt/data/public/vtuber/superchats_2022-01.parquet\n",
      "14M\t/mnt/data/public/vtuber/superchats_2022-02.parquet\n",
      "16M\t/mnt/data/public/vtuber/superchats_2022-03.parquet\n",
      "16M\t/mnt/data/public/vtuber/superchats_2022-04.parquet\n",
      "16M\t/mnt/data/public/vtuber/superchats_2022-05.parquet\n",
      "14M\t/mnt/data/public/vtuber/superchats_2022-06.parquet\n",
      "15M\t/mnt/data/public/vtuber/superchats_2022-07.parquet\n",
      "70G\ttotal\n"
     ]
    }
   ],
   "source": [
    "!du -sch /mnt/data/public/vtuber/*"
   ]
  },
  {
   "cell_type": "code",
   "execution_count": 5,
   "id": "ab347265-efd9-4ccf-9288-cb6d9c165c6b",
   "metadata": {
    "execution": {
     "iopub.execute_input": "2024-11-04T15:18:55.708774Z",
     "iopub.status.busy": "2024-11-04T15:18:55.707889Z",
     "iopub.status.idle": "2024-11-04T15:18:59.402629Z",
     "shell.execute_reply": "2024-11-04T15:18:59.400480Z",
     "shell.execute_reply.started": "2024-11-04T15:18:55.708719Z"
    }
   },
   "outputs": [],
   "source": [
    "from pyspark.sql import SparkSession\n",
    "\n",
    "spark = SparkSession.builder \\\n",
    "    .appName(\"LargeParquetLoad\") \\\n",
    "    .config(\"spark.driver.memory\", \"8g\") \\\n",
    "    .config(\"spark.executor.memory\", \"8g\") \\\n",
    "    .config(\"spark.sql.execution.arrow.enabled\", \"true\") \\\n",
    "    .getOrCreate()"
   ]
  },
  {
   "cell_type": "code",
   "execution_count": 6,
   "id": "eb624110-a8ec-4212-ac55-e5742f6c80fb",
   "metadata": {
    "execution": {
     "iopub.execute_input": "2024-11-04T15:18:59.411509Z",
     "iopub.status.busy": "2024-11-04T15:18:59.410053Z",
     "iopub.status.idle": "2024-11-04T15:18:59.420170Z",
     "shell.execute_reply": "2024-11-04T15:18:59.418904Z",
     "shell.execute_reply.started": "2024-11-04T15:18:59.411434Z"
    }
   },
   "outputs": [],
   "source": [
    "# List of file paths\n",
    "file_paths_chats = [\n",
    "    \"/mnt/data/public/vtuber/chats_2021-07.parquet\",\n",
    "    \"/mnt/data/public/vtuber/chats_2021-08.parquet\",\n",
    "    \"/mnt/data/public/vtuber/chats_2021-09.parquet\",\n",
    "    \"/mnt/data/public/vtuber/chats_2021-10.parquet\",\n",
    "    \"/mnt/data/public/vtuber/chats_2021-11.parquet\",\n",
    "    \"/mnt/data/public/vtuber/chats_2021-12.parquet\"\n",
    "]\n",
    "\n",
    "# List of file paths for superchat data\n",
    "file_paths_superchat = [\n",
    "    \"/mnt/data/public/vtuber/superchats_2021-07.parquet\",\n",
    "    \"/mnt/data/public/vtuber/superchats_2021-08.parquet\",\n",
    "    \"/mnt/data/public/vtuber/superchats_2021-09.parquet\",\n",
    "    \"/mnt/data/public/vtuber/superchats_2021-10.parquet\",\n",
    "    \"/mnt/data/public/vtuber/superchats_2021-11.parquet\",\n",
    "    \"/mnt/data/public/vtuber/superchats_2021-12.parquet\"\n",
    "]"
   ]
  },
  {
   "cell_type": "code",
   "execution_count": 7,
   "id": "6dc8adb6-889b-4141-b861-977f50edef37",
   "metadata": {
    "execution": {
     "iopub.execute_input": "2024-11-04T15:18:59.422247Z",
     "iopub.status.busy": "2024-11-04T15:18:59.421826Z",
     "iopub.status.idle": "2024-11-04T15:18:59.428062Z",
     "shell.execute_reply": "2024-11-04T15:18:59.426745Z",
     "shell.execute_reply.started": "2024-11-04T15:18:59.422208Z"
    }
   },
   "outputs": [],
   "source": [
    "# Initialize an empty DataFrame for combining all files\n",
    "df_combined_chats = None"
   ]
  },
  {
   "cell_type": "code",
   "execution_count": 8,
   "id": "15e497cf-a654-4a7f-acd9-3eeb3ee7c57c",
   "metadata": {
    "execution": {
     "iopub.execute_input": "2024-11-04T15:18:59.430120Z",
     "iopub.status.busy": "2024-11-04T15:18:59.429727Z",
     "iopub.status.idle": "2024-11-04T15:19:02.926020Z",
     "shell.execute_reply": "2024-11-04T15:19:02.924335Z",
     "shell.execute_reply.started": "2024-11-04T15:18:59.430080Z"
    }
   },
   "outputs": [],
   "source": [
    "# Initialize an empty DataFrame for combining all files\n",
    "df_combined_chats = None\n",
    "\n",
    "# Loop through each file, read it, and union it with df_combined_chats\n",
    "for file_path in file_paths_chats:\n",
    "    df = spark.read.parquet(file_path)\n",
    "    df_combined_chats = df if df_combined_chats is None else df_combined_chats.union(df)"
   ]
  },
  {
   "cell_type": "code",
   "execution_count": 9,
   "id": "91394288-7539-417f-9291-ccd5089f5a69",
   "metadata": {
    "execution": {
     "iopub.execute_input": "2024-11-04T15:19:02.928615Z",
     "iopub.status.busy": "2024-11-04T15:19:02.928029Z",
     "iopub.status.idle": "2024-11-04T15:19:03.279573Z",
     "shell.execute_reply": "2024-11-04T15:19:03.277828Z",
     "shell.execute_reply.started": "2024-11-04T15:19:02.928559Z"
    }
   },
   "outputs": [],
   "source": [
    "# Register the combined DataFrame as a view to run SQL queries\n",
    "df_combined_chats.createOrReplaceTempView(\"chats_combined\")"
   ]
  },
  {
   "cell_type": "code",
   "execution_count": 10,
   "id": "0c7fac3f-32cd-4b1d-abfb-4c82698d0c6f",
   "metadata": {
    "execution": {
     "iopub.execute_input": "2024-11-04T15:19:03.282623Z",
     "iopub.status.busy": "2024-11-04T15:19:03.281988Z",
     "iopub.status.idle": "2024-11-04T15:19:10.301493Z",
     "shell.execute_reply": "2024-11-04T15:19:10.300026Z",
     "shell.execute_reply.started": "2024-11-04T15:19:03.282567Z"
    }
   },
   "outputs": [
    {
     "name": "stdout",
     "output_type": "stream",
     "text": [
      "+--------------------+--------------------+-----------+--------------------+--------+----------+\n",
      "|           timestamp|     authorChannelId|    videoId|           channelId|isMember|bodyLength|\n",
      "+--------------------+--------------------+-----------+--------------------+--------+----------+\n",
      "|2021-07-01T00:00:...|5efbc39287a6d3a27...|1y6n0ftUDL8|UCtzCQnCT9E4o6U3m...|   false|         8|\n",
      "|2021-07-01T00:00:...|e32f9f60782378481...|IhiievWaZMI|UCS9uQI-jC3DE0L4I...|   false|         2|\n",
      "|2021-07-01T00:00:...|f168422928baa6b5e...|Z139LhmhIQw|UCS9uQI-jC3DE0L4I...|    true|         3|\n",
      "|2021-07-01T00:00:...|da38f78a2d12fca59...|b2B4hC6Dh6w|UCGNI4MENvnsymYjK...|   false|         2|\n",
      "|2021-07-01T00:00:...|7c08c62ea9e69f40d...|F8f5frua5HA|UC6tSB9TnO0f01OBe...|   false|        63|\n",
      "|2021-07-01T00:00:...|ee81fc2962b6bafe1...|2Ekz8COjWiY|UCBQd84IW8OvM8H5j...|   false|         4|\n",
      "|2021-07-01T00:00:...|523dcb05edfbb615e...|b2B4hC6Dh6w|UCGNI4MENvnsymYjK...|   false|         1|\n",
      "|2021-07-01T00:00:...|74d80c043e4d0634c...|Z139LhmhIQw|UCS9uQI-jC3DE0L4I...|    true|         3|\n",
      "|2021-07-01T00:00:...|f243d20c14abe90fb...|F8f5frua5HA|UC6tSB9TnO0f01OBe...|   false|        37|\n",
      "|2021-07-01T00:00:...|484261d9bed925a3a...|Z139LhmhIQw|UCS9uQI-jC3DE0L4I...|   false|       125|\n",
      "+--------------------+--------------------+-----------+--------------------+--------+----------+\n",
      "\n"
     ]
    }
   ],
   "source": [
    "# Displaying the first 10 rows from the combined DataFrame\n",
    "spark.sql(\"\"\"\n",
    "SELECT \n",
    "    *\n",
    "FROM \n",
    "    chats_combined\n",
    "LIMIT 10\n",
    "\"\"\").show()"
   ]
  },
  {
   "cell_type": "code",
   "execution_count": 11,
   "id": "003b1ae8-d4b0-486d-9604-1a11971771e6",
   "metadata": {
    "execution": {
     "iopub.execute_input": "2024-11-04T15:19:10.304519Z",
     "iopub.status.busy": "2024-11-04T15:19:10.303797Z",
     "iopub.status.idle": "2024-11-04T15:19:13.867316Z",
     "shell.execute_reply": "2024-11-04T15:19:13.865880Z",
     "shell.execute_reply.started": "2024-11-04T15:19:10.304463Z"
    }
   },
   "outputs": [
    {
     "name": "stdout",
     "output_type": "stream",
     "text": [
      "root\n",
      " |-- timestamp: string (nullable = true)\n",
      " |-- authorChannelId: string (nullable = true)\n",
      " |-- videoId: string (nullable = true)\n",
      " |-- channelId: string (nullable = true)\n",
      " |-- isMember: boolean (nullable = true)\n",
      " |-- bodyLength: integer (nullable = true)\n",
      "\n"
     ]
    },
    {
     "data": {
      "text/plain": [
       "537205028"
      ]
     },
     "execution_count": 11,
     "metadata": {},
     "output_type": "execute_result"
    }
   ],
   "source": [
    "df_combined_chats.printSchema()\n",
    "df_combined_chats.count()"
   ]
  },
  {
   "cell_type": "markdown",
   "id": "17c1ac83-56cf-407f-b811-82f3adae039c",
   "metadata": {},
   "source": [
    "## 2. Checking  Null Values"
   ]
  },
  {
   "cell_type": "code",
   "execution_count": 12,
   "id": "0cd8f98f-6003-48f8-9e4d-8e151754ddcc",
   "metadata": {
    "execution": {
     "iopub.execute_input": "2024-11-04T15:19:13.869377Z",
     "iopub.status.busy": "2024-11-04T15:19:13.868892Z",
     "iopub.status.idle": "2024-11-04T15:19:16.854043Z",
     "shell.execute_reply": "2024-11-04T15:19:16.853026Z",
     "shell.execute_reply.started": "2024-11-04T15:19:13.869331Z"
    }
   },
   "outputs": [
    {
     "name": "stdout",
     "output_type": "stream",
     "text": [
      "Number of null authorChannelId entries: 0\n"
     ]
    }
   ],
   "source": [
    "null_count = df_combined_chats.filter(df_combined_chats.authorChannelId.isNull()).count()\n",
    "print(f\"Number of null authorChannelId entries: {null_count}\")"
   ]
  },
  {
   "cell_type": "code",
   "execution_count": 13,
   "id": "ccb4ea6e-9f8d-43aa-af41-e64581338f4e",
   "metadata": {
    "execution": {
     "iopub.execute_input": "2024-11-04T15:19:16.855713Z",
     "iopub.status.busy": "2024-11-04T15:19:16.855373Z",
     "iopub.status.idle": "2024-11-04T15:19:19.095418Z",
     "shell.execute_reply": "2024-11-04T15:19:19.093876Z",
     "shell.execute_reply.started": "2024-11-04T15:19:16.855682Z"
    }
   },
   "outputs": [
    {
     "name": "stdout",
     "output_type": "stream",
     "text": [
      "Number of null authorChannelId entries: 0\n"
     ]
    }
   ],
   "source": [
    "null_count = df_combined_chats.filter(df_combined_chats.authorChannelId.isNull()).count()\n",
    "print(f\"Number of null authorChannelId entries: {null_count}\")"
   ]
  },
  {
   "cell_type": "code",
   "execution_count": 14,
   "id": "6137afe6-12bd-474d-937d-1294c011c99f",
   "metadata": {
    "execution": {
     "iopub.execute_input": "2024-11-04T15:19:19.098451Z",
     "iopub.status.busy": "2024-11-04T15:19:19.097471Z",
     "iopub.status.idle": "2024-11-04T15:19:19.103997Z",
     "shell.execute_reply": "2024-11-04T15:19:19.102644Z",
     "shell.execute_reply.started": "2024-11-04T15:19:19.098397Z"
    }
   },
   "outputs": [],
   "source": [
    "# Initialize an empty DataFrame for combining all files\n",
    "df_combined_superchats = None"
   ]
  },
  {
   "cell_type": "code",
   "execution_count": 15,
   "id": "08af5648-fc73-431f-be5b-dc11a71e7e43",
   "metadata": {
    "execution": {
     "iopub.execute_input": "2024-11-04T15:19:19.106837Z",
     "iopub.status.busy": "2024-11-04T15:19:19.105979Z",
     "iopub.status.idle": "2024-11-04T15:19:19.854877Z",
     "shell.execute_reply": "2024-11-04T15:19:19.854044Z",
     "shell.execute_reply.started": "2024-11-04T15:19:19.106777Z"
    }
   },
   "outputs": [],
   "source": [
    "# Loop through each file, read it, and union it with df_combined_superchats\n",
    "for file_path in file_paths_superchat:\n",
    "    df = spark.read.parquet(file_path)\n",
    "    df_combined_superchats = df if df_combined_superchats is None else df_combined_superchats.union(df)\n",
    "\n",
    "# Register the combined DataFrame as a view to run SQL queries\n",
    "df_combined_superchats.createOrReplaceTempView(\"superchats_combined\")"
   ]
  },
  {
   "cell_type": "code",
   "execution_count": 16,
   "id": "10ae0456-145b-44ab-a756-c290f82a1f5d",
   "metadata": {
    "execution": {
     "iopub.execute_input": "2024-11-04T15:19:19.856141Z",
     "iopub.status.busy": "2024-11-04T15:19:19.855915Z",
     "iopub.status.idle": "2024-11-04T15:19:20.336904Z",
     "shell.execute_reply": "2024-11-04T15:19:20.335215Z",
     "shell.execute_reply.started": "2024-11-04T15:19:19.856122Z"
    }
   },
   "outputs": [
    {
     "name": "stdout",
     "output_type": "stream",
     "text": [
      "+--------------------+------+--------+------------+--------------------+-----------+--------------------+----------+\n",
      "|           timestamp|amount|currency|significance|     authorChannelId|    videoId|           channelId|bodylength|\n",
      "+--------------------+------+--------+------------+--------------------+-----------+--------------------+----------+\n",
      "|2021-07-01T00:00:...|  20.0|     MXN|           2|79a5ff510fc256341...|F8f5frua5HA|UC6tSB9TnO0f01OBe...|        32|\n",
      "|2021-07-01T00:00:...| 500.0|     JPY|           3|bd0c48f217f806c74...|ZSkSRGG_opQ|UC_9nmotxi7FAfiJp...|        61|\n",
      "|2021-07-01T00:00:...| 610.0|     JPY|           3|27543b8ef651e158b...|jBZoTsZ8KKk|UCmovZ2th3Sqpd00F...|        39|\n",
      "|2021-07-01T00:00:...| 610.0|     JPY|           3|823ae7b14ad159a52...|jBZoTsZ8KKk|UCmovZ2th3Sqpd00F...|        53|\n",
      "|2021-07-01T00:00:...| 500.0|     JPY|           3|573c1de147c9854cb...|1y6n0ftUDL8|UCtzCQnCT9E4o6U3m...|        17|\n",
      "|2021-07-01T00:00:...| 500.0|     JPY|           3|4bbe065724afe6e82...|jBZoTsZ8KKk|UCmovZ2th3Sqpd00F...|        17|\n",
      "|2021-07-01T00:00:...|  50.0|     MXN|           3|845468c9d53349c7c...|F8f5frua5HA|UC6tSB9TnO0f01OBe...|        30|\n",
      "|2021-07-01T00:00:...|1000.0|     CLP|           2|5a69b66a364e50f83...|Z139LhmhIQw|UCS9uQI-jC3DE0L4I...|        44|\n",
      "|2021-07-01T00:00:...|   1.0|     BRL|           1|6cb7da54a7fbeefb6...|Z139LhmhIQw|UCS9uQI-jC3DE0L4I...|         0|\n",
      "|2021-07-01T00:01:...| 250.0|     JPY|           2|305a5160414a6206d...|ZSkSRGG_opQ|UC_9nmotxi7FAfiJp...|        18|\n",
      "+--------------------+------+--------+------------+--------------------+-----------+--------------------+----------+\n",
      "\n"
     ]
    }
   ],
   "source": [
    "# Displaying the first 10 rows from the combined DataFrame\n",
    "spark.sql(\"\"\"\n",
    "SELECT \n",
    "    *\n",
    "FROM \n",
    "    superchats_combined\n",
    "LIMIT 10\n",
    "\"\"\").show()"
   ]
  },
  {
   "cell_type": "code",
   "execution_count": 17,
   "id": "446cdcc1-aaf3-4c8f-89c4-033e3c034ad8",
   "metadata": {
    "execution": {
     "iopub.execute_input": "2024-11-04T15:19:20.339144Z",
     "iopub.status.busy": "2024-11-04T15:19:20.338675Z",
     "iopub.status.idle": "2024-11-04T15:19:20.817552Z",
     "shell.execute_reply": "2024-11-04T15:19:20.815860Z",
     "shell.execute_reply.started": "2024-11-04T15:19:20.339117Z"
    }
   },
   "outputs": [
    {
     "name": "stdout",
     "output_type": "stream",
     "text": [
      "root\n",
      " |-- timestamp: string (nullable = true)\n",
      " |-- amount: double (nullable = true)\n",
      " |-- currency: string (nullable = true)\n",
      " |-- significance: long (nullable = true)\n",
      " |-- authorChannelId: string (nullable = true)\n",
      " |-- videoId: string (nullable = true)\n",
      " |-- channelId: string (nullable = true)\n",
      " |-- bodylength: long (nullable = true)\n",
      "\n"
     ]
    },
    {
     "data": {
      "text/plain": [
       "2332512"
      ]
     },
     "execution_count": 17,
     "metadata": {},
     "output_type": "execute_result"
    }
   ],
   "source": [
    "# Print the schema of the combined superchats DataFrame\n",
    "df_combined_superchats.printSchema()\n",
    "df_combined_superchats.count()"
   ]
  },
  {
   "cell_type": "code",
   "execution_count": 18,
   "id": "62483e14-3ffe-450d-b906-1df90309862f",
   "metadata": {
    "execution": {
     "iopub.execute_input": "2024-11-04T15:19:20.821124Z",
     "iopub.status.busy": "2024-11-04T15:19:20.819655Z",
     "iopub.status.idle": "2024-11-04T15:19:21.333017Z",
     "shell.execute_reply": "2024-11-04T15:19:21.331317Z",
     "shell.execute_reply.started": "2024-11-04T15:19:20.821066Z"
    }
   },
   "outputs": [
    {
     "name": "stdout",
     "output_type": "stream",
     "text": [
      "Number of null authorChannelId entries in df_combined_superchats: 0\n"
     ]
    }
   ],
   "source": [
    "# Count the number of null entries in the authorChannelId column for df_combined_superchats\n",
    "null_count_superchats = df_combined_superchats.filter(df_combined_superchats.authorChannelId.isNull()).count()\n",
    "print(f\"Number of null authorChannelId entries in df_combined_superchats: {null_count_superchats}\")"
   ]
  },
  {
   "cell_type": "markdown",
   "id": "42ca207e-1521-40bc-a3ea-ea7a57ee88e2",
   "metadata": {},
   "source": [
    "### 3. Loading"
   ]
  },
  {
   "cell_type": "code",
   "execution_count": 19,
   "id": "a54cb1eb-daa4-4827-83ee-0495ac450343",
   "metadata": {
    "execution": {
     "iopub.execute_input": "2024-11-04T15:19:21.335577Z",
     "iopub.status.busy": "2024-11-04T15:19:21.334999Z",
     "iopub.status.idle": "2024-11-04T15:19:21.640418Z",
     "shell.execute_reply": "2024-11-04T15:19:21.638726Z",
     "shell.execute_reply.started": "2024-11-04T15:19:21.335523Z"
    }
   },
   "outputs": [],
   "source": [
    "#Load different datasets in the vtuber directory\n",
    "df_ban_events = spark.read.parquet(\"/mnt/data/public/vtuber/ban_events.parquet\")\n",
    "df_deletion_events = spark.read.parquet(\"/mnt/data/public/vtuber/deletion_events.parquet\")"
   ]
  },
  {
   "cell_type": "code",
   "execution_count": 25,
   "id": "17f5ceb7-fe48-47d8-be08-1e181f4d31b0",
   "metadata": {
    "execution": {
     "iopub.execute_input": "2024-11-04T15:19:21.691289Z",
     "iopub.status.busy": "2024-11-04T15:19:21.690513Z",
     "iopub.status.idle": "2024-11-04T15:19:22.247294Z",
     "shell.execute_reply": "2024-11-04T15:19:22.245610Z",
     "shell.execute_reply.started": "2024-11-04T15:19:21.691245Z"
    }
   },
   "outputs": [
    {
     "name": "stdout",
     "output_type": "stream",
     "text": [
      "+--------------------+--------------------+-----------+--------------------+\n",
      "|           timestamp|     authorChannelId|    videoId|           channelId|\n",
      "+--------------------+--------------------+-----------+--------------------+\n",
      "|2021-02-11 09:52:...|28b911656881fefae...|0vDIyNgVyZI|UCYz_5n-uDuChHtLo...|\n",
      "|2021-02-11 09:54:...|20035eb4b063278b8...|0vDIyNgVyZI|UCYz_5n-uDuChHtLo...|\n",
      "|2021-02-11 09:58:...|524e0b58909a1c6dc...|blSX7M_n9RA|UCl_gCybOJRIgOXw6...|\n",
      "|2021-02-11 09:58:...|524e0b58909a1c6dc...|blSX7M_n9RA|UCl_gCybOJRIgOXw6...|\n",
      "|2021-02-11 10:08:...|8a68f6998263072fc...|-UbSxTkVjjU|UC-hM6YJuNYVAmUWx...|\n",
      "+--------------------+--------------------+-----------+--------------------+\n",
      "only showing top 5 rows\n",
      "\n"
     ]
    }
   ],
   "source": [
    "# Loading ban events data\n",
    "df_ban_events = spark.read.parquet(\"/mnt/data/public/vtuber/ban_events.parquet\")\n",
    "\n",
    "# Displaying the first few rows of ban events data to verify loading\n",
    "df_ban_events.show(5)"
   ]
  },
  {
   "cell_type": "code",
   "execution_count": 26,
   "id": "7e8b778c-0563-4680-a8a2-f0166344343b",
   "metadata": {
    "execution": {
     "iopub.execute_input": "2024-11-04T15:19:22.249952Z",
     "iopub.status.busy": "2024-11-04T15:19:22.249357Z",
     "iopub.status.idle": "2024-11-04T15:19:22.728487Z",
     "shell.execute_reply": "2024-11-04T15:19:22.726804Z",
     "shell.execute_reply.started": "2024-11-04T15:19:22.249900Z"
    }
   },
   "outputs": [
    {
     "name": "stdout",
     "output_type": "stream",
     "text": [
      "+--------------------+--------------------+---------+-----------+--------------------+\n",
      "|           timestamp|                  id|retracted|    videoId|           channelId|\n",
      "+--------------------+--------------------+---------+-----------+--------------------+\n",
      "|2021-02-11 09:03:...|CkUKGkNQM21yOTY4N...|     true|b2O8RqGXxwM|UCCzUftO8KOVkV4wQ...|\n",
      "|2021-02-11 09:04:...|CjsKGkNLV1F0T1c4N...|     true|blSX7M_n9RA|UCl_gCybOJRIgOXw6...|\n",
      "|2021-02-11 09:04:...|CkUKGkNLelE4dC04N...|     true|blSX7M_n9RA|UCl_gCybOJRIgOXw6...|\n",
      "|2021-02-11 09:06:...|CjsKGkNMVDIxNmk5N...|     true|FBHae81fR3U|UCNVEsYbiZjH5QLmG...|\n",
      "|2021-02-11 09:06:...|CkUKGkNNejA0S3E5N...|     true|2RLmJw5Wb5k|UCHsx4Hqa-1ORjQTh...|\n",
      "+--------------------+--------------------+---------+-----------+--------------------+\n",
      "only showing top 5 rows\n",
      "\n"
     ]
    }
   ],
   "source": [
    "df_deletion_events.show(5)"
   ]
  },
  {
   "cell_type": "markdown",
   "id": "419b37f8-2a03-493c-a42a-bc341b2567da",
   "metadata": {
    "execution": {
     "iopub.execute_input": "2024-11-04T11:54:08.794286Z",
     "iopub.status.busy": "2024-11-04T11:54:08.793742Z",
     "iopub.status.idle": "2024-11-04T11:54:08.801176Z",
     "shell.execute_reply": "2024-11-04T11:54:08.799600Z",
     "shell.execute_reply.started": "2024-11-04T11:54:08.794244Z"
    }
   },
   "source": [
    "### 4. Filtering\n",
    "This function filters an events DataFrame to only include records within a specific date range, based on the timestamp column. It's helpful for time-based analyses, allowing you to focus on events occurring between two given dates."
   ]
  },
  {
   "cell_type": "code",
   "execution_count": 27,
   "id": "b7fbc2d7-0c19-4060-bdd0-a56591c84ca4",
   "metadata": {
    "execution": {
     "iopub.execute_input": "2024-11-04T15:19:22.731394Z",
     "iopub.status.busy": "2024-11-04T15:19:22.730710Z",
     "iopub.status.idle": "2024-11-04T15:19:22.742668Z",
     "shell.execute_reply": "2024-11-04T15:19:22.741567Z",
     "shell.execute_reply.started": "2024-11-04T15:19:22.731338Z"
    }
   },
   "outputs": [],
   "source": [
    "from pyspark.sql import functions as F\n",
    "from pyspark.sql import DataFrame\n",
    "\n",
    "def filter_events_by_date(df: DataFrame, start_date: str, end_date: str) -> DataFrame:\n",
    "    \"\"\"\n",
    "    Filters an events DataFrame for entries within a specified date range.\n",
    "\n",
    "    Parameters:\n",
    "    - df (DataFrame): The events DataFrame to filter.\n",
    "    - start_date (str): Start date in the format 'YYYY-MM-DD'.\n",
    "    - end_date (str): End date in the format 'YYYY-MM-DD'.\n",
    "\n",
    "    Returns:\n",
    "    - DataFrame: Filtered DataFrame within the date range.\n",
    "    \"\"\"\n",
    "    # Convert timestamp to DateType\n",
    "    df = df.withColumn(\"date\", F.to_date(\"timestamp\"))\n",
    "\n",
    "    # Filter for rows within the date range\n",
    "    filtered_df = df.filter((F.col(\"date\") >= start_date) & (F.col(\"date\") <= end_date))\n",
    "    \n",
    "    return filtered_df.drop(\"date\")  # Drop the extra date column if not needed"
   ]
  },
  {
   "cell_type": "code",
   "execution_count": 28,
   "id": "4c7913d5-b4f8-4859-8313-248f9f8ed708",
   "metadata": {
    "execution": {
     "iopub.execute_input": "2024-11-04T15:19:22.745236Z",
     "iopub.status.busy": "2024-11-04T15:19:22.744714Z",
     "iopub.status.idle": "2024-11-04T15:19:24.075632Z",
     "shell.execute_reply": "2024-11-04T15:19:24.073977Z",
     "shell.execute_reply.started": "2024-11-04T15:19:22.745185Z"
    }
   },
   "outputs": [
    {
     "name": "stdout",
     "output_type": "stream",
     "text": [
      "+--------------------+--------------------+-----------+--------------------+\n",
      "|           timestamp|     authorChannelId|    videoId|           channelId|\n",
      "+--------------------+--------------------+-----------+--------------------+\n",
      "|2021-07-01 00:00:...|2be0ae450be9719dd...|F8f5frua5HA|UC6tSB9TnO0f01OBe...|\n",
      "|2021-07-01 00:04:...|a6bd8001a64644931...|jBZoTsZ8KKk|UCmovZ2th3Sqpd00F...|\n",
      "|2021-07-01 00:04:...|73f95df4197dd428a...|Z139LhmhIQw|UCS9uQI-jC3DE0L4I...|\n",
      "|2021-07-01 00:04:...|a6bd8001a64644931...|jBZoTsZ8KKk|UCmovZ2th3Sqpd00F...|\n",
      "|2021-07-01 00:05:...|14de35653fd2225e5...|F8f5frua5HA|UC6tSB9TnO0f01OBe...|\n",
      "+--------------------+--------------------+-----------+--------------------+\n",
      "only showing top 5 rows\n",
      "\n",
      "+--------------------+--------------------+---------+-----------+--------------------+\n",
      "|           timestamp|                  id|retracted|    videoId|           channelId|\n",
      "+--------------------+--------------------+---------+-----------+--------------------+\n",
      "|2021-07-01 00:00:...|CkUKGkNMT2czNlBJd...|     true|F8f5frua5HA|UC6tSB9TnO0f01OBe...|\n",
      "|2021-07-01 00:00:...|CkUKGkNJeWN5NmpJd...|    false|F8f5frua5HA|UC6tSB9TnO0f01OBe...|\n",
      "|2021-07-01 00:00:...|CkUKGkNMck1ycTdJd...|    false|F8f5frua5HA|UC6tSB9TnO0f01OBe...|\n",
      "|2021-07-01 00:00:...|CkUKGkNOdTR4N25Jd...|     true|F8f5frua5HA|UC6tSB9TnO0f01OBe...|\n",
      "|2021-07-01 00:00:...|CjkKGkNJR25tclhJd...|    false|F8f5frua5HA|UC6tSB9TnO0f01OBe...|\n",
      "+--------------------+--------------------+---------+-----------+--------------------+\n",
      "only showing top 5 rows\n",
      "\n"
     ]
    }
   ],
   "source": [
    "# Applying the function to both df_ban_events and df_deletion_events\n",
    "filtered_df_ban_events = filter_events_by_date(df_ban_events, \"2021-07-01\", \"2021-12-31\")\n",
    "filtered_df_deletion_events = filter_events_by_date(df_deletion_events, \"2021-07-01\", \"2021-12-31\")\n",
    "\n",
    "# Displaying the first few rows to verify\n",
    "filtered_df_ban_events.show(5)\n",
    "filtered_df_deletion_events.show(5)"
   ]
  },
  {
   "cell_type": "markdown",
   "id": "976d276f-5d4c-4d36-81d8-76b179df5bd0",
   "metadata": {
    "execution": {
     "iopub.execute_input": "2024-11-04T12:00:09.338217Z",
     "iopub.status.busy": "2024-11-04T12:00:09.337512Z",
     "iopub.status.idle": "2024-11-04T12:00:09.347495Z",
     "shell.execute_reply": "2024-11-04T12:00:09.345981Z",
     "shell.execute_reply.started": "2024-11-04T12:00:09.338156Z"
    }
   },
   "source": [
    "<a id='Problem'></a>\n",
    "<h1 style=\"color:#ffffff; background-color:#FF0000; border: 1px solid #ffffff; padding: 10px 0;\">IV. Analysis</h1>"
   ]
  },
  {
   "cell_type": "markdown",
   "id": "08f5adef-3d2d-4dc1-b4ab-29263c262bac",
   "metadata": {},
   "source": [
    "### 1. Frequencies"
   ]
  },
  {
   "cell_type": "code",
   "execution_count": 29,
   "id": "2a141bfc-6e84-43cf-9a79-f37eb5243b1b",
   "metadata": {
    "execution": {
     "iopub.execute_input": "2024-11-04T15:19:24.078362Z",
     "iopub.status.busy": "2024-11-04T15:19:24.077765Z",
     "iopub.status.idle": "2024-11-04T15:19:27.784062Z",
     "shell.execute_reply": "2024-11-04T15:19:27.782262Z",
     "shell.execute_reply.started": "2024-11-04T15:19:24.078307Z"
    }
   },
   "outputs": [
    {
     "name": "stdout",
     "output_type": "stream",
     "text": [
      "Ban Events: 199976\n",
      "Deletion Events: 1502610\n",
      "Chats Combined: 537205028\n",
      "Superchats Combined: 2332512\n"
     ]
    }
   ],
   "source": [
    "from pyspark.sql import functions as F\n",
    "\n",
    "# Example 1: Count rows in each DataFrame\n",
    "print(\"Ban Events:\", filtered_df_ban_events.count())\n",
    "print(\"Deletion Events:\", filtered_df_deletion_events.count())\n",
    "print(\"Chats Combined:\", df_combined_chats.count())\n",
    "print(\"Superchats Combined:\", df_combined_superchats.count())"
   ]
  },
  {
   "cell_type": "code",
   "execution_count": 30,
   "id": "22c8d369-ea9b-4fbc-8eff-4ccd997bba0d",
   "metadata": {
    "execution": {
     "iopub.execute_input": "2024-11-04T15:19:27.787120Z",
     "iopub.status.busy": "2024-11-04T15:19:27.786436Z",
     "iopub.status.idle": "2024-11-04T15:19:29.273860Z",
     "shell.execute_reply": "2024-11-04T15:19:29.272723Z",
     "shell.execute_reply.started": "2024-11-04T15:19:27.787063Z"
    }
   },
   "outputs": [
    {
     "name": "stdout",
     "output_type": "stream",
     "text": [
      "+----------+-----+\n",
      "|      date|count|\n",
      "+----------+-----+\n",
      "|2021-07-01| 1492|\n",
      "|2021-07-02|  890|\n",
      "|2021-07-03| 1181|\n",
      "|2021-07-04|  779|\n",
      "|2021-07-05|  825|\n",
      "|2021-07-06|  864|\n",
      "|2021-07-07| 1588|\n",
      "|2021-07-08| 1622|\n",
      "|2021-07-09| 1199|\n",
      "|2021-07-10| 1007|\n",
      "|2021-07-11| 1923|\n",
      "|2021-07-12| 2212|\n",
      "|2021-07-13|  819|\n",
      "|2021-07-14|  461|\n",
      "|2021-07-15| 1275|\n",
      "|2021-07-16|  829|\n",
      "|2021-07-17| 3801|\n",
      "|2021-07-18|  593|\n",
      "|2021-07-19|  724|\n",
      "|2021-07-20|  819|\n",
      "+----------+-----+\n",
      "only showing top 20 rows\n",
      "\n"
     ]
    }
   ],
   "source": [
    "# Activity per day (ban events)\n",
    "ban_daily_counts = filtered_df_ban_events.withColumn(\"date\", F.to_date(\"timestamp\")) \\\n",
    "    .groupBy(\"date\").count() \\\n",
    "    .orderBy(\"date\")\n",
    "ban_daily_counts.show()"
   ]
  },
  {
   "cell_type": "code",
   "execution_count": 31,
   "id": "6867d973-cef9-420d-aff4-14df25435cb4",
   "metadata": {
    "execution": {
     "iopub.execute_input": "2024-11-04T15:19:29.275855Z",
     "iopub.status.busy": "2024-11-04T15:19:29.275480Z",
     "iopub.status.idle": "2024-11-04T15:19:31.124556Z",
     "shell.execute_reply": "2024-11-04T15:19:31.123440Z",
     "shell.execute_reply.started": "2024-11-04T15:19:29.275804Z"
    }
   },
   "outputs": [
    {
     "data": {
      "text/plain": [
       "537205028"
      ]
     },
     "execution_count": 31,
     "metadata": {},
     "output_type": "execute_result"
    }
   ],
   "source": [
    "# Try a simple count to see if it works\n",
    "df_combined_chats.count()"
   ]
  },
  {
   "cell_type": "code",
   "execution_count": 32,
   "id": "e6821ae7-105f-4cc5-bffa-49d21b7e2d1e",
   "metadata": {
    "execution": {
     "iopub.execute_input": "2024-11-04T15:19:31.127354Z",
     "iopub.status.busy": "2024-11-04T15:19:31.126651Z",
     "iopub.status.idle": "2024-11-04T15:19:31.132996Z",
     "shell.execute_reply": "2024-11-04T15:19:31.131885Z",
     "shell.execute_reply.started": "2024-11-04T15:19:31.127295Z"
    }
   },
   "outputs": [],
   "source": [
    "# # Filter for valid messages (e.g., bodyLength greater than 0)\n",
    "# filtered_chats = df_combined_chats.filter(df_combined_chats.bodyLength > 0)\n",
    "\n",
    "# if filtered_chats.count() > 0:\n",
    "#     top_authors_chats = filtered_chats.groupBy(\"authorChannelId\").count().orderBy(F.desc(\"count\"))\n",
    "#     top_authors_chats.show(10)"
   ]
  },
  {
   "cell_type": "markdown",
   "id": "7c2dabe8-9214-496e-a22c-610fab852231",
   "metadata": {},
   "source": [
    "## 2. Data Overview and Schema Analysis"
   ]
  },
  {
   "cell_type": "code",
   "execution_count": 33,
   "id": "5b2cd075-59dd-4052-bf99-f08a29ae6ec7",
   "metadata": {
    "execution": {
     "iopub.execute_input": "2024-11-04T15:19:31.135426Z",
     "iopub.status.busy": "2024-11-04T15:19:31.134854Z",
     "iopub.status.idle": "2024-11-04T15:19:31.148782Z",
     "shell.execute_reply": "2024-11-04T15:19:31.147457Z",
     "shell.execute_reply.started": "2024-11-04T15:19:31.135375Z"
    }
   },
   "outputs": [
    {
     "name": "stdout",
     "output_type": "stream",
     "text": [
      "df_ban_events Schema:\n",
      "root\n",
      " |-- timestamp: timestamp (nullable = true)\n",
      " |-- authorChannelId: string (nullable = true)\n",
      " |-- videoId: string (nullable = true)\n",
      " |-- channelId: string (nullable = true)\n",
      "\n",
      "\n",
      "df_deletion_events Schema:\n",
      "root\n",
      " |-- timestamp: timestamp (nullable = true)\n",
      " |-- id: string (nullable = true)\n",
      " |-- retracted: boolean (nullable = true)\n",
      " |-- videoId: string (nullable = true)\n",
      " |-- channelId: string (nullable = true)\n",
      "\n",
      "\n",
      "df_combined_chats Schema:\n",
      "root\n",
      " |-- timestamp: string (nullable = true)\n",
      " |-- authorChannelId: string (nullable = true)\n",
      " |-- videoId: string (nullable = true)\n",
      " |-- channelId: string (nullable = true)\n",
      " |-- isMember: boolean (nullable = true)\n",
      " |-- bodyLength: integer (nullable = true)\n",
      "\n",
      "\n",
      "df_combined_superchats Schema:\n",
      "root\n",
      " |-- timestamp: string (nullable = true)\n",
      " |-- amount: double (nullable = true)\n",
      " |-- currency: string (nullable = true)\n",
      " |-- significance: long (nullable = true)\n",
      " |-- authorChannelId: string (nullable = true)\n",
      " |-- videoId: string (nullable = true)\n",
      " |-- channelId: string (nullable = true)\n",
      " |-- bodylength: long (nullable = true)\n",
      "\n"
     ]
    }
   ],
   "source": [
    "# Display schema for each DataFrame\n",
    "print(\"df_ban_events Schema:\")\n",
    "filtered_df_ban_events.printSchema()\n",
    "\n",
    "print(\"\\ndf_deletion_events Schema:\")\n",
    "filtered_df_deletion_events.printSchema()\n",
    "\n",
    "print(\"\\ndf_combined_chats Schema:\")\n",
    "df_combined_chats.printSchema()\n",
    "\n",
    "print(\"\\ndf_combined_superchats Schema:\")\n",
    "df_combined_superchats.printSchema()"
   ]
  },
  {
   "cell_type": "code",
   "execution_count": 34,
   "id": "b8713e1f-ca82-49df-a421-3d692681af76",
   "metadata": {
    "execution": {
     "iopub.execute_input": "2024-11-04T15:19:31.151674Z",
     "iopub.status.busy": "2024-11-04T15:19:31.150713Z",
     "iopub.status.idle": "2024-11-04T15:19:33.827662Z",
     "shell.execute_reply": "2024-11-04T15:19:33.825974Z",
     "shell.execute_reply.started": "2024-11-04T15:19:31.151617Z"
    }
   },
   "outputs": [
    {
     "name": "stdout",
     "output_type": "stream",
     "text": [
      "\n",
      "Row Counts:\n",
      "Ban Events Count: 199976\n",
      "Deletion Events Count: 1502610\n",
      "Combined Chats Count: 537205028\n",
      "Combined Superchats Count: 2332512\n"
     ]
    }
   ],
   "source": [
    "# Row Counts\n",
    "print(\"\\nRow Counts:\")\n",
    "print(f\"Ban Events Count: {filtered_df_ban_events.count()}\")\n",
    "print(f\"Deletion Events Count: {filtered_df_deletion_events.count()}\")\n",
    "print(f\"Combined Chats Count: {df_combined_chats.count()}\")\n",
    "print(f\"Combined Superchats Count: {df_combined_superchats.count()}\")"
   ]
  },
  {
   "cell_type": "code",
   "execution_count": 35,
   "id": "7f0890d6-281d-400f-9431-b54f5f34a612",
   "metadata": {
    "execution": {
     "iopub.execute_input": "2024-11-04T15:19:33.829939Z",
     "iopub.status.busy": "2024-11-04T15:19:33.829402Z",
     "iopub.status.idle": "2024-11-04T15:19:34.412004Z",
     "shell.execute_reply": "2024-11-04T15:19:34.410650Z",
     "shell.execute_reply.started": "2024-11-04T15:19:33.829904Z"
    }
   },
   "outputs": [
    {
     "name": "stdout",
     "output_type": "stream",
     "text": [
      "\n",
      "Missing Values in Ban Events:\n",
      "+---------+---------------+-------+---------+\n",
      "|timestamp|authorChannelId|videoId|channelId|\n",
      "+---------+---------------+-------+---------+\n",
      "|        0|              0|      0|        0|\n",
      "+---------+---------------+-------+---------+\n",
      "\n"
     ]
    }
   ],
   "source": [
    "# Check missing values for filtered_df_ban_events\n",
    "print(\"\\nMissing Values in Ban Events:\")\n",
    "missing_values_ban_events = filtered_df_ban_events.select(\n",
    "    [F.count(F.when(F.col(c).isNull(), c)).alias(c) for c in filtered_df_ban_events.columns]\n",
    ")\n",
    "\n",
    "# Collect and print the results\n",
    "missing_values_ban_events.show()  # or use collect() if needed"
   ]
  },
  {
   "cell_type": "code",
   "execution_count": 36,
   "id": "87acea8a-f03c-4ab6-a5db-ef82c59e4b7d",
   "metadata": {
    "execution": {
     "iopub.execute_input": "2024-11-04T15:19:34.413623Z",
     "iopub.status.busy": "2024-11-04T15:19:34.413352Z",
     "iopub.status.idle": "2024-11-04T15:19:36.325116Z",
     "shell.execute_reply": "2024-11-04T15:19:36.323184Z",
     "shell.execute_reply.started": "2024-11-04T15:19:34.413604Z"
    }
   },
   "outputs": [
    {
     "name": "stdout",
     "output_type": "stream",
     "text": [
      "\n",
      "Missing Values in Deletion Events:\n",
      "+---------+---+---------+-------+---------+\n",
      "|timestamp| id|retracted|videoId|channelId|\n",
      "+---------+---+---------+-------+---------+\n",
      "|        0|  0|        0|      0|        0|\n",
      "+---------+---+---------+-------+---------+\n",
      "\n"
     ]
    }
   ],
   "source": [
    "# Check missing values for filtered_df_deletion_events\n",
    "print(\"\\nMissing Values in Deletion Events:\")\n",
    "missing_values_deletion_events = filtered_df_deletion_events.select(\n",
    "    [F.count(F.when(F.col(c).isNull(), c)).alias(c) for c in filtered_df_deletion_events.columns]\n",
    ")\n",
    "\n",
    "# Collect and print the results\n",
    "missing_values_deletion_events.show()  # or use collect() if needed"
   ]
  },
  {
   "cell_type": "code",
   "execution_count": 37,
   "id": "df8abc6d-1cdf-4826-af81-e045af2e4911",
   "metadata": {
    "execution": {
     "iopub.execute_input": "2024-11-04T15:19:36.328143Z",
     "iopub.status.busy": "2024-11-04T15:19:36.327483Z",
     "iopub.status.idle": "2024-11-04T15:19:37.912981Z",
     "shell.execute_reply": "2024-11-04T15:19:37.911923Z",
     "shell.execute_reply.started": "2024-11-04T15:19:36.328088Z"
    }
   },
   "outputs": [
    {
     "name": "stdout",
     "output_type": "stream",
     "text": [
      "Record count in df_combined_chats: 537205028\n",
      "root\n",
      " |-- timestamp: string (nullable = true)\n",
      " |-- authorChannelId: string (nullable = true)\n",
      " |-- videoId: string (nullable = true)\n",
      " |-- channelId: string (nullable = true)\n",
      " |-- isMember: boolean (nullable = true)\n",
      " |-- bodyLength: integer (nullable = true)\n",
      "\n"
     ]
    }
   ],
   "source": [
    "# Check if df_combined_chats is properly defined and not empty\n",
    "print(\"Record count in df_combined_chats:\", df_combined_chats.count())\n",
    "df_combined_chats.printSchema()"
   ]
  },
  {
   "cell_type": "code",
   "execution_count": 38,
   "id": "e795adee-c9bd-4235-b7fd-3e092416cc5d",
   "metadata": {
    "execution": {
     "iopub.execute_input": "2024-11-04T15:19:37.914725Z",
     "iopub.status.busy": "2024-11-04T15:19:37.914309Z",
     "iopub.status.idle": "2024-11-04T15:19:39.728878Z",
     "shell.execute_reply": "2024-11-04T15:19:39.727382Z",
     "shell.execute_reply.started": "2024-11-04T15:19:37.914690Z"
    }
   },
   "outputs": [
    {
     "name": "stdout",
     "output_type": "stream",
     "text": [
      "\n",
      "Missing Values in Combined Superchats:\n",
      "+---------+------+--------+------------+---------------+-------+---------+----------+\n",
      "|timestamp|amount|currency|significance|authorChannelId|videoId|channelId|bodylength|\n",
      "+---------+------+--------+------------+---------------+-------+---------+----------+\n",
      "|        0|     0|       0|           0|              0|      0|        0|         0|\n",
      "+---------+------+--------+------------+---------------+-------+---------+----------+\n",
      "\n"
     ]
    }
   ],
   "source": [
    "# Check missing values for df_combined_superchats\n",
    "print(\"\\nMissing Values in Combined Superchats:\")\n",
    "missing_values_superchats = df_combined_superchats.select(\n",
    "    [F.count(F.when(F.col(c).isNull(), c)).alias(c) for c in df_combined_superchats.columns]\n",
    ")\n",
    "\n",
    "# Collect and print the results\n",
    "missing_values_superchats.show()  # or use collect() if needed"
   ]
  },
  {
   "cell_type": "markdown",
   "id": "95ca6926-6e4e-48dc-a2bd-0e590d76291a",
   "metadata": {
    "execution": {
     "iopub.status.busy": "2024-10-29T12:22:03.901346Z",
     "iopub.status.idle": "2024-10-29T12:22:03.902052Z",
     "shell.execute_reply": "2024-10-29T12:22:03.901725Z",
     "shell.execute_reply.started": "2024-10-29T12:22:03.901692Z"
    }
   },
   "source": [
    "## 3. Timestamp Analysis"
   ]
  },
  {
   "cell_type": "code",
   "execution_count": 41,
   "id": "3e60af38-6e78-49d4-90c6-df28507c29ed",
   "metadata": {
    "execution": {
     "iopub.execute_input": "2024-11-04T15:19:39.749468Z",
     "iopub.status.busy": "2024-11-04T15:19:39.748898Z",
     "iopub.status.idle": "2024-11-04T15:19:40.784471Z",
     "shell.execute_reply": "2024-11-04T15:19:40.782812Z",
     "shell.execute_reply.started": "2024-11-04T15:19:39.749415Z"
    }
   },
   "outputs": [
    {
     "name": "stdout",
     "output_type": "stream",
     "text": [
      "+----------+---------+--------------+\n",
      "|      date|ban_count|deletion_count|\n",
      "+----------+---------+--------------+\n",
      "|2021-07-01|     1492|          6209|\n",
      "|2021-07-02|      890|          6573|\n",
      "|2021-07-03|     1181|          8355|\n",
      "|2021-07-04|      779|          7104|\n",
      "|2021-07-05|      825|          6351|\n",
      "|2021-07-06|      864|          6334|\n",
      "|2021-07-07|     1588|          6595|\n",
      "|2021-07-08|     1622|          6026|\n",
      "|2021-07-09|     1199|          6036|\n",
      "|2021-07-10|     1007|          8174|\n",
      "|2021-07-11|     1923|          7967|\n",
      "|2021-07-12|     2212|          7258|\n",
      "|2021-07-13|      819|          7915|\n",
      "|2021-07-14|      461|          3814|\n",
      "|2021-07-15|     1275|          7288|\n",
      "|2021-07-16|      829|          6447|\n",
      "|2021-07-17|     3801|          7841|\n",
      "|2021-07-18|      593|          8280|\n",
      "|2021-07-19|      724|          6268|\n",
      "|2021-07-20|      819|          7307|\n",
      "+----------+---------+--------------+\n",
      "only showing top 20 rows\n",
      "\n"
     ]
    }
   ],
   "source": [
    "# Grouping events by day for filtered ban and deletion events\n",
    "ban_daily_counts = filtered_df_ban_events.withColumn(\"date\", F.to_date(\"timestamp\")) \\\n",
    "    .groupBy(\"date\").count().withColumnRenamed(\"count\", \"ban_count\")\n",
    "\n",
    "deletion_daily_counts = filtered_df_deletion_events.withColumn(\"date\", F.to_date(\"timestamp\")) \\\n",
    "    .groupBy(\"date\").count().withColumnRenamed(\"count\", \"deletion_count\")\n",
    "\n",
    "# Joining all daily counts into a single DataFrame\n",
    "daily_counts = ban_daily_counts \\\n",
    "    .join(deletion_daily_counts, \"date\", \"outer\") \\\n",
    "    .fillna(0)  # Fill NaNs with 0 for missing counts\n",
    "\n",
    "# Show the resulting daily counts DataFrame\n",
    "daily_counts.show()"
   ]
  },
  {
   "cell_type": "code",
   "execution_count": 42,
   "id": "dc256493-a2a7-483f-85fe-457ae27cdcd8",
   "metadata": {
    "execution": {
     "iopub.execute_input": "2024-11-04T15:19:40.787090Z",
     "iopub.status.busy": "2024-11-04T15:19:40.786501Z",
     "iopub.status.idle": "2024-11-04T15:19:42.083238Z",
     "shell.execute_reply": "2024-11-04T15:19:42.082416Z",
     "shell.execute_reply.started": "2024-11-04T15:19:40.787037Z"
    },
    "scrolled": true
   },
   "outputs": [
    {
     "data": {
      "image/png": "[encoded data removed]",
      "text/plain": [
       "<Figure size 1400x700 with 1 Axes>"
      ]
     },
     "metadata": {},
     "output_type": "display_data"
    }
   ],
   "source": [
    "import matplotlib.pyplot as plt\n",
    "\n",
    "# Convert to Pandas for plotting\n",
    "daily_counts_pd = daily_counts.toPandas()\n",
    "\n",
    "# Set the date as the index\n",
    "daily_counts_pd.set_index('date', inplace=True)\n",
    "\n",
    "# Plotting\n",
    "plt.figure(figsize=(14, 7))\n",
    "plt.plot(daily_counts_pd.index, daily_counts_pd['ban_count'], label='Ban Events', marker='o', linestyle='-')\n",
    "plt.plot(daily_counts_pd.index, daily_counts_pd['deletion_count'], label='Deletion Events', marker='o', linestyle='-')\n",
    "\n",
    "plt.title('Event Activity Over Time')\n",
    "plt.xlabel('Date')\n",
    "plt.ylabel('Event Count')\n",
    "plt.legend()\n",
    "plt.xticks(rotation=45)\n",
    "plt.tight_layout()\n",
    "plt.show()"
   ]
  },
  {
   "cell_type": "markdown",
   "id": "366e6695-50c5-49f4-9c07-15a60ccb340e",
   "metadata": {},
   "source": [
    "## Analysis of Ban and Deletion Events Over Time in VTuber Live Chat Streams\n",
    "This portion analyzes the daily occurrence of two types of moderation events—ban and deletion events—in VTuber live chat streams over the period from mid-2021 to early 2022. By examining the trends and frequency of these events, we aim to uncover patterns in moderation behavior and understand the dynamics of viewer interaction and content management in virtual live-streaming environments. The following are the findings: \n",
    "\n",
    "1. Event Frequency and Trends: \n",
    "Deletion Events: Deletion events consistently outnumber ban events throughout the period. This indicates that message deletion is a more common moderation response than banning users, suggesting that moderators prioritize content control over restricting user access. This could reflect a moderation policy aimed at maintaining community standards while minimizing user exclusion.\n",
    "Ban Events: Although less frequent, ban events show a steady occurrence, with some days experiencing noticeable spikes. This implies that while banning is used sparingly, there are specific instances where it becomes necessary, potentially due to severe violations of community guidelines.\n",
    "\n",
    "2. Spikes in Moderation Activity: \n",
    "The analysis reveals significant peaks in both ban and deletion events during certain periods. For instance:\n",
    "August 2021: A sharp increase in deletion events is observed. This spike could suggest a response to specific content issues or an increase in user engagement that required more active moderation.\n",
    "November 2021: Another peak occurs, with both ban and deletion events reaching higher-than-average levels. This may correspond to external factors, such as policy updates, platform changes, or increased viewer activity, which might have led to more intensive moderation.\n",
    "\n",
    "3. Moderation Consistency: \n",
    "Both types of events display a degree of regularity, with daily fluctuations but no long-term trend indicating a rise or fall in moderation levels. This consistency suggests an ongoing need for moderation, possibly driven by the high engagement typical of VTuber live streams and the diversity of viewer interactions.\n",
    "\n",
    "4. Comparative Trends: \n",
    "The regular disparity between deletion and ban events highlights that message deletion is the preferred moderation method, with bans reserved for more severe cases. This could indicate a moderation approach that seeks to preserve viewer participation while ensuring community standards are upheld."
   ]
  },
  {
   "cell_type": "code",
   "execution_count": 43,
   "id": "a0c73714-7781-4140-b830-331285b9a8b2",
   "metadata": {
    "execution": {
     "iopub.execute_input": "2024-11-04T15:19:42.084204Z",
     "iopub.status.busy": "2024-11-04T15:19:42.084029Z",
     "iopub.status.idle": "2024-11-04T15:19:42.960880Z",
     "shell.execute_reply": "2024-11-04T15:19:42.959402Z",
     "shell.execute_reply.started": "2024-11-04T15:19:42.084189Z"
    }
   },
   "outputs": [
    {
     "name": "stdout",
     "output_type": "stream",
     "text": [
      "+----+---------+--------------+\n",
      "|hour|ban_count|deletion_count|\n",
      "+----+---------+--------------+\n",
      "|   0|     3916|         25100|\n",
      "|   1|     4691|         30205|\n",
      "|   2|     4839|         30659|\n",
      "|   3|     4623|         39145|\n",
      "|   4|     6441|         40996|\n",
      "|   5|     7813|         39803|\n",
      "|   6|     5527|         40534|\n",
      "|   7|     4997|         39218|\n",
      "|   8|     6895|         43042|\n",
      "|   9|     5855|         54540|\n",
      "|  10|     5825|         74194|\n",
      "|  11|    23702|        110112|\n",
      "|  12|    27189|        156578|\n",
      "|  13|    31853|        188811|\n",
      "|  14|    18803|        177509|\n",
      "|  15|     9587|        136199|\n",
      "|  16|     5463|         87169|\n",
      "|  17|     3620|         52776|\n",
      "|  18|     2926|         33306|\n",
      "|  19|     2110|         21395|\n",
      "+----+---------+--------------+\n",
      "only showing top 20 rows\n",
      "\n"
     ]
    }
   ],
   "source": [
    "# Extracting hour from timestamp for filtered ban and deletion events\n",
    "ban_hourly_counts = filtered_df_ban_events.withColumn(\"hour\", F.hour(\"timestamp\")) \\\n",
    "    .groupBy(\"hour\").count().withColumnRenamed(\"count\", \"ban_count\")\n",
    "\n",
    "deletion_hourly_counts = filtered_df_deletion_events.withColumn(\"hour\", F.hour(\"timestamp\")) \\\n",
    "    .groupBy(\"hour\").count().withColumnRenamed(\"count\", \"deletion_count\")\n",
    "\n",
    "# Joining all hourly counts into a single DataFrame\n",
    "hourly_counts = ban_hourly_counts \\\n",
    "    .join(deletion_hourly_counts, \"hour\", \"outer\") \\\n",
    "    .fillna(0)  # Fill NaNs with 0 for missing counts\n",
    "\n",
    "# Show the resulting hourly counts DataFrame\n",
    "hourly_counts.show()"
   ]
  },
  {
   "cell_type": "code",
   "execution_count": 44,
   "id": "ee04a7cc-9885-4314-9b7d-05e5bb5633fc",
   "metadata": {
    "execution": {
     "iopub.execute_input": "2024-11-04T15:19:42.962404Z",
     "iopub.status.busy": "2024-11-04T15:19:42.962165Z",
     "iopub.status.idle": "2024-11-04T15:19:43.933531Z",
     "shell.execute_reply": "2024-11-04T15:19:43.932526Z",
     "shell.execute_reply.started": "2024-11-04T15:19:42.962387Z"
    },
    "scrolled": true
   },
   "outputs": [
    {
     "data": {
      "image/png": "[encoded data removed]",
      "text/plain": [
       "<Figure size 1400x700 with 1 Axes>"
      ]
     },
     "metadata": {},
     "output_type": "display_data"
    }
   ],
   "source": [
    "# Convert to Pandas for plotting\n",
    "hourly_counts_pd = hourly_counts.toPandas()\n",
    "\n",
    "# Set the hour as the index\n",
    "hourly_counts_pd.set_index('hour', inplace=True)\n",
    "\n",
    "# Plotting\n",
    "plt.figure(figsize=(14, 7))\n",
    "plt.plot(hourly_counts_pd.index, hourly_counts_pd['ban_count'], label='Ban Events', marker='o', linestyle='-')\n",
    "plt.plot(hourly_counts_pd.index, hourly_counts_pd['deletion_count'], label='Deletion Events', marker='o', linestyle='-')\n",
    "\n",
    "plt.title('Distribution of Events by Hour')\n",
    "plt.xlabel('Hour of the Day')\n",
    "plt.ylabel('Event Count')\n",
    "plt.legend()\n",
    "plt.xticks(range(24))  # Show hours from 0 to 23\n",
    "plt.tight_layout()\n",
    "plt.show()"
   ]
  },
  {
   "cell_type": "markdown",
   "id": "f9069518-8137-4460-960f-bc6ec04c9679",
   "metadata": {},
   "source": [
    "## Analysis of Ban and Deletion Events by Hour in VTuber Live Chat Streams\n",
    "\n",
    "This analysis examines the distribution of two types of moderation events—ban and deletion events—throughout the 24-hour day in VTuber live chat streams. By analyzing these events on an hourly basis, we aim to identify peak times for moderation activity, which could provide insights into viewer behavior patterns and moderation needs during live-streaming sessions. Shown are the findings: \n",
    "\n",
    "1. Hourly Distribution and Trends\n",
    "Deletion Events: Deletion events show a distinct peak during the midday hours, with activity rapidly rising from around 10 AM, peaking at approximately noon to 1 PM, and then tapering off by the evening. This pattern suggests that the highest need for content moderation occurs in the early afternoon, possibly due to increased viewer activity during this time.\n",
    "Ban Events: In contrast, ban events display a relatively consistent distribution throughout the day, with a slight increase observed around the same midday period as deletion events. However, the peak in ban events is significantly lower in magnitude compared to deletion events, indicating that banning is less frequently applied than message deletion.\n",
    "\n",
    "2. Midday Peak in Moderation Activity\n",
    "The most notable observation is the sharp spike in deletion events around noon. This may correspond to peak engagement times when the largest audience is actively participating in live chats, leading to a higher likelihood of message removal due to policy violations or inappropriate content.\n",
    "The ban events also exhibit a minor increase during this period, suggesting that some cases escalate from content deletion to user restrictions. However, the relatively flat trend for ban events across other hours implies that banning users is reserved for specific instances rather than a routine action.\n",
    "\n",
    "3. Comparative Trends\n",
    "The significant disparity between deletion and ban events, particularly during peak hours, highlights a preference for content removal over user restriction. This approach may reflect moderation policies that aim to manage content while minimizing user exclusion.\n",
    "The hourly analysis further reveals that, unlike deletion events, ban events do not exhibit substantial hourly variation, indicating that most bans may occur independently of specific times or spikes in viewer activity."
   ]
  },
  {
   "cell_type": "markdown",
   "id": "d2cbdcd9-e895-4980-a30a-db3d746d7d4a",
   "metadata": {
    "execution": {
     "iopub.execute_input": "2024-10-29T14:43:13.924717Z",
     "iopub.status.busy": "2024-10-29T14:43:13.924037Z",
     "iopub.status.idle": "2024-10-29T14:43:13.931888Z",
     "shell.execute_reply": "2024-10-29T14:43:13.930053Z",
     "shell.execute_reply.started": "2024-10-29T14:43:13.924661Z"
    }
   },
   "source": [
    "## Text Content Analysis (Chats and Superchats)"
   ]
  },
  {
   "cell_type": "code",
   "execution_count": 45,
   "id": "20478bea-1e39-4c54-a0ad-6e362e94e832",
   "metadata": {
    "execution": {
     "iopub.execute_input": "2024-11-04T15:19:43.934906Z",
     "iopub.status.busy": "2024-11-04T15:19:43.934610Z",
     "iopub.status.idle": "2024-11-04T15:19:46.634817Z",
     "shell.execute_reply": "2024-11-04T15:19:46.634025Z",
     "shell.execute_reply.started": "2024-11-04T15:19:43.934887Z"
    }
   },
   "outputs": [
    {
     "name": "stderr",
     "output_type": "stream",
     "text": [
      "/tmp/ipykernel_26556/1949166439.py:15: FutureWarning: \n",
      "\n",
      "Passing `palette` without assigning `hue` is deprecated and will be removed in v0.14.0. Assign the `x` variable to `hue` and set `legend=False` for the same effect.\n",
      "\n",
      "  sns.barplot(x='isMember', y='count', data=membership_counts, palette='Set1')\n"
     ]
    },
    {
     "data": {
      "image/png": "[encoded data removed]",
      "text/plain": [
       "<Figure size 800x600 with 1 Axes>"
      ]
     },
     "metadata": {},
     "output_type": "display_data"
    }
   ],
   "source": [
    "# Specify the file path for July 2021 chat data\n",
    "file_path_july = \"/mnt/data/public/vtuber/chats_2021-07.parquet\"\n",
    "\n",
    "# Read the chat data for July\n",
    "df_july = spark.read.parquet(file_path_july)\n",
    "\n",
    "# Step 1: Aggregate counts by membership status\n",
    "membership_counts_spark = df_july.groupBy(\"isMember\").agg(F.count('*').alias('count'))\n",
    "\n",
    "# Step 2: Convert to Pandas DataFrame\n",
    "membership_counts = membership_counts_spark.toPandas()\n",
    "\n",
    "# Step 3: Set up the plot for July's data\n",
    "plt.figure(figsize=(8, 6))\n",
    "sns.barplot(x='isMember', y='count', data=membership_counts, palette='Set1')\n",
    "plt.title('Number of Messages by Membership Status for July 2021')\n",
    "plt.xlabel('Membership Status (1=Member, 0=Non-member)')\n",
    "plt.ylabel('Number of Messages')\n",
    "plt.xticks(ticks=[0, 1], labels=['Non-member', 'Member'], rotation=0)\n",
    "plt.show()"
   ]
  },
  {
   "cell_type": "code",
   "execution_count": 46,
   "id": "17d37079-6058-4d87-a8a8-b065f2a28efd",
   "metadata": {
    "execution": {
     "iopub.execute_input": "2024-11-04T15:19:46.635990Z",
     "iopub.status.busy": "2024-11-04T15:19:46.635754Z",
     "iopub.status.idle": "2024-11-04T15:19:48.903734Z",
     "shell.execute_reply": "2024-11-04T15:19:48.902795Z",
     "shell.execute_reply.started": "2024-11-04T15:19:46.635971Z"
    }
   },
   "outputs": [
    {
     "name": "stderr",
     "output_type": "stream",
     "text": [
      "/tmp/ipykernel_26556/4041200037.py:15: FutureWarning: \n",
      "\n",
      "Passing `palette` without assigning `hue` is deprecated and will be removed in v0.14.0. Assign the `x` variable to `hue` and set `legend=False` for the same effect.\n",
      "\n",
      "  sns.barplot(x='isMember', y='count', data=membership_counts, palette='Set1')\n"
     ]
    },
    {
     "data": {
      "image/png": "[encoded data removed]",
      "text/plain": [
       "<Figure size 800x600 with 1 Axes>"
      ]
     },
     "metadata": {},
     "output_type": "display_data"
    }
   ],
   "source": [
    "# Specify the file path for August 2021 chat data\n",
    "file_path_august = \"/mnt/data/public/vtuber/chats_2021-08.parquet\"\n",
    "\n",
    "# Read the chat data for August\n",
    "df_august = spark.read.parquet(file_path_august)\n",
    "\n",
    "# Step 1: Aggregate counts by membership status\n",
    "membership_counts_spark = df_august.groupBy(\"isMember\").agg(F.count('*').alias('count'))\n",
    "\n",
    "# Step 2: Convert to Pandas DataFrame\n",
    "membership_counts = membership_counts_spark.toPandas()\n",
    "\n",
    "# Step 3: Set up the plot for August's data\n",
    "plt.figure(figsize=(8, 6))\n",
    "sns.barplot(x='isMember', y='count', data=membership_counts, palette='Set1')\n",
    "plt.title('Number of Messages by Membership Status for August 2021')\n",
    "plt.xlabel('Membership Status (1=Member, 0=Non-member)')\n",
    "plt.ylabel('Number of Messages')\n",
    "plt.xticks(ticks=[0, 1], labels=['Non-member', 'Member'], rotation=0)\n",
    "plt.show()"
   ]
  },
  {
   "cell_type": "code",
   "execution_count": 47,
   "id": "a9b65dd9-0663-4cea-bc69-e0b449764b47",
   "metadata": {
    "execution": {
     "iopub.execute_input": "2024-11-04T15:19:48.905239Z",
     "iopub.status.busy": "2024-11-04T15:19:48.905003Z",
     "iopub.status.idle": "2024-11-04T15:19:51.269295Z",
     "shell.execute_reply": "2024-11-04T15:19:51.268486Z",
     "shell.execute_reply.started": "2024-11-04T15:19:48.905219Z"
    }
   },
   "outputs": [
    {
     "name": "stderr",
     "output_type": "stream",
     "text": [
      "/tmp/ipykernel_26556/827843011.py:15: FutureWarning: \n",
      "\n",
      "Passing `palette` without assigning `hue` is deprecated and will be removed in v0.14.0. Assign the `x` variable to `hue` and set `legend=False` for the same effect.\n",
      "\n",
      "  sns.barplot(x='isMember', y='count', data=membership_counts, palette='Set1')\n"
     ]
    },
    {
     "data": {
      "image/png": "[encoded data removed]",
      "text/plain": [
       "<Figure size 800x600 with 1 Axes>"
      ]
     },
     "metadata": {},
     "output_type": "display_data"
    }
   ],
   "source": [
    "# Specify the file path for September 2021 chat data\n",
    "file_path_september = \"/mnt/data/public/vtuber/chats_2021-09.parquet\"\n",
    "\n",
    "# Read the chat data for September\n",
    "df_september = spark.read.parquet(file_path_september)\n",
    "\n",
    "# Step 1: Aggregate counts by membership status\n",
    "membership_counts_spark = df_september.groupBy(\"isMember\").agg(F.count('*').alias('count'))\n",
    "\n",
    "# Step 2: Convert to Pandas DataFrame\n",
    "membership_counts = membership_counts_spark.toPandas()\n",
    "\n",
    "# Step 3: Set up the plot for September's data\n",
    "plt.figure(figsize=(8, 6))\n",
    "sns.barplot(x='isMember', y='count', data=membership_counts, palette='Set1')\n",
    "plt.title('Number of Messages by Membership Status for September 2021')\n",
    "plt.xlabel('Membership Status (1=Member, 0=Non-member)')\n",
    "plt.ylabel('Number of Messages')\n",
    "plt.xticks(ticks=[0, 1], labels=['Non-member', 'Member'], rotation=0)\n",
    "plt.show()"
   ]
  },
  {
   "cell_type": "code",
   "execution_count": 48,
   "id": "96048ec6-f04d-4bdf-8cee-391c16ab7513",
   "metadata": {
    "execution": {
     "iopub.execute_input": "2024-11-04T15:19:51.270308Z",
     "iopub.status.busy": "2024-11-04T15:19:51.270127Z",
     "iopub.status.idle": "2024-11-04T15:19:53.607102Z",
     "shell.execute_reply": "2024-11-04T15:19:53.605998Z",
     "shell.execute_reply.started": "2024-11-04T15:19:51.270293Z"
    }
   },
   "outputs": [
    {
     "name": "stderr",
     "output_type": "stream",
     "text": [
      "/tmp/ipykernel_26556/2292352070.py:15: FutureWarning: \n",
      "\n",
      "Passing `palette` without assigning `hue` is deprecated and will be removed in v0.14.0. Assign the `x` variable to `hue` and set `legend=False` for the same effect.\n",
      "\n",
      "  sns.barplot(x='isMember', y='count', data=membership_counts, palette='Set1')\n"
     ]
    },
    {
     "data": {
      "image/png": "[encoded data removed]",
      "text/plain": [
       "<Figure size 800x600 with 1 Axes>"
      ]
     },
     "metadata": {},
     "output_type": "display_data"
    }
   ],
   "source": [
    "# Specify the file path for October 2021 chat data\n",
    "file_path_october = \"/mnt/data/public/vtuber/chats_2021-10.parquet\"\n",
    "\n",
    "# Read the chat data for October\n",
    "df_october = spark.read.parquet(file_path_october)\n",
    "\n",
    "# Step 1: Aggregate counts by membership status\n",
    "membership_counts_spark = df_october.groupBy(\"isMember\").agg(F.count('*').alias('count'))\n",
    "\n",
    "# Step 2: Convert to Pandas DataFrame\n",
    "membership_counts = membership_counts_spark.toPandas()\n",
    "\n",
    "# Step 3: Set up the plot for October's data\n",
    "plt.figure(figsize=(8, 6))\n",
    "sns.barplot(x='isMember', y='count', data=membership_counts, palette='Set1')\n",
    "plt.title('Number of Messages by Membership Status for October 2021')\n",
    "plt.xlabel('Membership Status (1=Member, 0=Non-member)')\n",
    "plt.ylabel('Number of Messages')\n",
    "plt.xticks(ticks=[0, 1], labels=['Non-member', 'Member'], rotation=0)\n",
    "plt.show()"
   ]
  },
  {
   "cell_type": "code",
   "execution_count": 49,
   "id": "3088327f-2ed2-4d33-ab9c-5af23aa7e6dc",
   "metadata": {
    "execution": {
     "iopub.execute_input": "2024-11-04T15:19:53.608110Z",
     "iopub.status.busy": "2024-11-04T15:19:53.607898Z",
     "iopub.status.idle": "2024-11-04T15:19:55.988685Z",
     "shell.execute_reply": "2024-11-04T15:19:55.988081Z",
     "shell.execute_reply.started": "2024-11-04T15:19:53.608090Z"
    }
   },
   "outputs": [
    {
     "name": "stderr",
     "output_type": "stream",
     "text": [
      "/tmp/ipykernel_26556/3997295074.py:15: FutureWarning: \n",
      "\n",
      "Passing `palette` without assigning `hue` is deprecated and will be removed in v0.14.0. Assign the `x` variable to `hue` and set `legend=False` for the same effect.\n",
      "\n",
      "  sns.barplot(x='isMember', y='count', data=membership_counts, palette='Set1')\n"
     ]
    },
    {
     "data": {
      "image/png": "[encoded data removed]",
      "text/plain": [
       "<Figure size 800x600 with 1 Axes>"
      ]
     },
     "metadata": {},
     "output_type": "display_data"
    }
   ],
   "source": [
    "# Specify the file path for November 2021 chat data\n",
    "file_path_november = \"/mnt/data/public/vtuber/chats_2021-11.parquet\"\n",
    "\n",
    "# Read the chat data for November\n",
    "df_november = spark.read.parquet(file_path_november)\n",
    "\n",
    "# Step 1: Aggregate counts by membership status\n",
    "membership_counts_spark = df_november.groupBy(\"isMember\").agg(F.count('*').alias('count'))\n",
    "\n",
    "# Step 2: Convert to Pandas DataFrame\n",
    "membership_counts = membership_counts_spark.toPandas()\n",
    "\n",
    "# Step 3: Set up the plot for November's data\n",
    "plt.figure(figsize=(8, 6))\n",
    "sns.barplot(x='isMember', y='count', data=membership_counts, palette='Set1')\n",
    "plt.title('Number of Messages by Membership Status for November 2021')\n",
    "plt.xlabel('Membership Status (1=Member, 0=Non-member)')\n",
    "plt.ylabel('Number of Messages')\n",
    "plt.xticks(ticks=[0, 1], labels=['Non-member', 'Member'], rotation=0)\n",
    "plt.show()"
   ]
  },
  {
   "cell_type": "markdown",
   "id": "8210c93f-45f1-4ad4-918e-d4d7f08d707b",
   "metadata": {},
   "source": [
    "This part examines the volume of messages sent by members and non-members in VTuber live chat streams for the month of July-November 2021. Using the isMember field, we distinguish between messages from members (paying supporters) and non-members (viewers without a paid membership). This breakdown provides insights into the engagement levels of different viewer segments.\n",
    "Shown are the findings\n",
    "\n",
    "1. Higher Engagement from Non-Members: The plot shows that non-members have a slightly higher message count compared to members. This indicates that the majority of chat activity is driven by non-members, which is common in public live streams where most viewers interact without subscribing to a paid membership.\n",
    "\n",
    "2. Member Participation: Although members contribute fewer messages overall, the volume is still substantial. This suggests that members are actively engaged in the chat, likely taking advantage of their status to communicate with the VTuber or gain exclusive recognition. Member contributions represent a significant portion of the overall chat volume, highlighting the value they bring as part of the fanbase.\n",
    "\n",
    "3. Implications for Engagement Strategy: \n",
    "Content for Non-Members: Given the high engagement from non-members, VTubers and content creators can focus on inclusive content that appeals to the broader audience while encouraging these viewers to consider membership.\n",
    "Exclusive Engagement for Members: The substantial participation from members indicates that they are invested in the content. VTubers can enhance member benefits, such as exclusive chat interactions or special recognition, to further incentivize membership and retain this dedicated segment.\n"
   ]
  },
  {
   "cell_type": "markdown",
   "id": "5327b43a-b942-4285-a839-b3ef4691818f",
   "metadata": {},
   "source": [
    "## Monetary Analysis"
   ]
  },
  {
   "cell_type": "code",
   "execution_count": 50,
   "id": "06d97fac-1db2-4532-b8ad-49bc8f01b581",
   "metadata": {
    "execution": {
     "iopub.execute_input": "2024-11-04T15:19:55.989855Z",
     "iopub.status.busy": "2024-11-04T15:19:55.989635Z",
     "iopub.status.idle": "2024-11-04T15:20:02.339473Z",
     "shell.execute_reply": "2024-11-04T15:20:02.337606Z",
     "shell.execute_reply.started": "2024-11-04T15:19:55.989835Z"
    }
   },
   "outputs": [],
   "source": [
    "# Convert PySpark DataFrame to Pandas DataFrame\n",
    "pandas_df_combined_superchats = df_combined_superchats.toPandas()"
   ]
  },
  {
   "cell_type": "code",
   "execution_count": 51,
   "id": "266e915b-a944-4bdd-81cb-53c298bbe077",
   "metadata": {
    "execution": {
     "iopub.execute_input": "2024-11-04T15:20:02.340941Z",
     "iopub.status.busy": "2024-11-04T15:20:02.340711Z",
     "iopub.status.idle": "2024-11-04T15:20:02.524606Z",
     "shell.execute_reply": "2024-11-04T15:20:02.523333Z",
     "shell.execute_reply.started": "2024-11-04T15:20:02.340921Z"
    }
   },
   "outputs": [
    {
     "name": "stdout",
     "output_type": "stream",
     "text": [
      "Currency Summary:\n"
     ]
    },
    {
     "data": {
      "text/html": [
       "<div>\n",
       "<style scoped>\n",
       "    .dataframe tbody tr th:only-of-type {\n",
       "        vertical-align: middle;\n",
       "    }\n",
       "\n",
       "    .dataframe tbody tr th {\n",
       "        vertical-align: top;\n",
       "    }\n",
       "\n",
       "    .dataframe thead th {\n",
       "        text-align: right;\n",
       "    }\n",
       "</style>\n",
       "<table border=\"1\" class=\"dataframe\">\n",
       "  <thead>\n",
       "    <tr style=\"text-align: right;\">\n",
       "      <th></th>\n",
       "      <th>Currency</th>\n",
       "      <th>Total Amount</th>\n",
       "      <th>Average Amount</th>\n",
       "      <th>Count</th>\n",
       "    </tr>\n",
       "  </thead>\n",
       "  <tbody>\n",
       "    <tr>\n",
       "      <th>27</th>\n",
       "      <td>JPY</td>\n",
       "      <td>1.934544e+09</td>\n",
       "      <td>1215.807276</td>\n",
       "      <td>1591160</td>\n",
       "    </tr>\n",
       "    <tr>\n",
       "      <th>29</th>\n",
       "      <td>KRW</td>\n",
       "      <td>3.620305e+08</td>\n",
       "      <td>12160.099993</td>\n",
       "      <td>29772</td>\n",
       "    </tr>\n",
       "    <tr>\n",
       "      <th>48</th>\n",
       "      <td>TWD</td>\n",
       "      <td>4.186760e+07</td>\n",
       "      <td>186.868056</td>\n",
       "      <td>224049</td>\n",
       "    </tr>\n",
       "    <tr>\n",
       "      <th>10</th>\n",
       "      <td>CLP</td>\n",
       "      <td>2.363030e+07</td>\n",
       "      <td>2863.585070</td>\n",
       "      <td>8252</td>\n",
       "    </tr>\n",
       "    <tr>\n",
       "      <th>11</th>\n",
       "      <td>COP</td>\n",
       "      <td>2.026196e+07</td>\n",
       "      <td>11120.721734</td>\n",
       "      <td>1822</td>\n",
       "    </tr>\n",
       "    <tr>\n",
       "      <th>37</th>\n",
       "      <td>PHP</td>\n",
       "      <td>5.117774e+06</td>\n",
       "      <td>193.987358</td>\n",
       "      <td>26382</td>\n",
       "    </tr>\n",
       "    <tr>\n",
       "      <th>43</th>\n",
       "      <td>RUB</td>\n",
       "      <td>3.789804e+06</td>\n",
       "      <td>254.502958</td>\n",
       "      <td>14891</td>\n",
       "    </tr>\n",
       "    <tr>\n",
       "      <th>39</th>\n",
       "      <td>PYG</td>\n",
       "      <td>3.435000e+06</td>\n",
       "      <td>20205.882353</td>\n",
       "      <td>170</td>\n",
       "    </tr>\n",
       "    <tr>\n",
       "      <th>20</th>\n",
       "      <td>HKD</td>\n",
       "      <td>3.203793e+06</td>\n",
       "      <td>66.386088</td>\n",
       "      <td>48260</td>\n",
       "    </tr>\n",
       "    <tr>\n",
       "      <th>49</th>\n",
       "      <td>USD</td>\n",
       "      <td>2.486775e+06</td>\n",
       "      <td>12.027292</td>\n",
       "      <td>206761</td>\n",
       "    </tr>\n",
       "    <tr>\n",
       "      <th>1</th>\n",
       "      <td>ARS</td>\n",
       "      <td>2.386046e+06</td>\n",
       "      <td>128.510048</td>\n",
       "      <td>18567</td>\n",
       "    </tr>\n",
       "    <tr>\n",
       "      <th>12</th>\n",
       "      <td>CRC</td>\n",
       "      <td>2.015693e+06</td>\n",
       "      <td>2716.567385</td>\n",
       "      <td>742</td>\n",
       "    </tr>\n",
       "    <tr>\n",
       "      <th>23</th>\n",
       "      <td>HUF</td>\n",
       "      <td>1.286267e+06</td>\n",
       "      <td>3033.648585</td>\n",
       "      <td>424</td>\n",
       "    </tr>\n",
       "    <tr>\n",
       "      <th>31</th>\n",
       "      <td>MXN</td>\n",
       "      <td>8.722181e+05</td>\n",
       "      <td>59.626612</td>\n",
       "      <td>14628</td>\n",
       "    </tr>\n",
       "    <tr>\n",
       "      <th>25</th>\n",
       "      <td>INR</td>\n",
       "      <td>4.546355e+05</td>\n",
       "      <td>263.099265</td>\n",
       "      <td>1728</td>\n",
       "    </tr>\n",
       "    <tr>\n",
       "      <th>8</th>\n",
       "      <td>CAD</td>\n",
       "      <td>3.452230e+05</td>\n",
       "      <td>12.578263</td>\n",
       "      <td>27446</td>\n",
       "    </tr>\n",
       "    <tr>\n",
       "      <th>45</th>\n",
       "      <td>SEK</td>\n",
       "      <td>2.989935e+05</td>\n",
       "      <td>123.653222</td>\n",
       "      <td>2418</td>\n",
       "    </tr>\n",
       "    <tr>\n",
       "      <th>32</th>\n",
       "      <td>MYR</td>\n",
       "      <td>2.846231e+05</td>\n",
       "      <td>17.613904</td>\n",
       "      <td>16159</td>\n",
       "    </tr>\n",
       "    <tr>\n",
       "      <th>2</th>\n",
       "      <td>AUD</td>\n",
       "      <td>2.780597e+05</td>\n",
       "      <td>13.232119</td>\n",
       "      <td>21014</td>\n",
       "    </tr>\n",
       "    <tr>\n",
       "      <th>46</th>\n",
       "      <td>SGD</td>\n",
       "      <td>2.340961e+05</td>\n",
       "      <td>12.110506</td>\n",
       "      <td>19330</td>\n",
       "    </tr>\n",
       "    <tr>\n",
       "      <th>17</th>\n",
       "      <td>EUR</td>\n",
       "      <td>1.990754e+05</td>\n",
       "      <td>10.301443</td>\n",
       "      <td>19325</td>\n",
       "    </tr>\n",
       "    <tr>\n",
       "      <th>34</th>\n",
       "      <td>NOK</td>\n",
       "      <td>1.479396e+05</td>\n",
       "      <td>162.036824</td>\n",
       "      <td>913</td>\n",
       "    </tr>\n",
       "    <tr>\n",
       "      <th>42</th>\n",
       "      <td>RSD</td>\n",
       "      <td>1.382840e+05</td>\n",
       "      <td>668.038647</td>\n",
       "      <td>207</td>\n",
       "    </tr>\n",
       "    <tr>\n",
       "      <th>13</th>\n",
       "      <td>CZK</td>\n",
       "      <td>1.304133e+05</td>\n",
       "      <td>120.196590</td>\n",
       "      <td>1085</td>\n",
       "    </tr>\n",
       "    <tr>\n",
       "      <th>26</th>\n",
       "      <td>ISK</td>\n",
       "      <td>1.228790e+05</td>\n",
       "      <td>1117.081818</td>\n",
       "      <td>110</td>\n",
       "    </tr>\n",
       "    <tr>\n",
       "      <th>6</th>\n",
       "      <td>BRL</td>\n",
       "      <td>1.000019e+05</td>\n",
       "      <td>12.231155</td>\n",
       "      <td>8176</td>\n",
       "    </tr>\n",
       "    <tr>\n",
       "      <th>18</th>\n",
       "      <td>GBP</td>\n",
       "      <td>9.634840e+04</td>\n",
       "      <td>9.127359</td>\n",
       "      <td>10556</td>\n",
       "    </tr>\n",
       "    <tr>\n",
       "      <th>14</th>\n",
       "      <td>DKK</td>\n",
       "      <td>6.609975e+04</td>\n",
       "      <td>85.732490</td>\n",
       "      <td>771</td>\n",
       "    </tr>\n",
       "    <tr>\n",
       "      <th>38</th>\n",
       "      <td>PLN</td>\n",
       "      <td>6.425525e+04</td>\n",
       "      <td>37.163245</td>\n",
       "      <td>1729</td>\n",
       "    </tr>\n",
       "    <tr>\n",
       "      <th>36</th>\n",
       "      <td>PEN</td>\n",
       "      <td>5.574240e+04</td>\n",
       "      <td>6.863982</td>\n",
       "      <td>8121</td>\n",
       "    </tr>\n",
       "    <tr>\n",
       "      <th>35</th>\n",
       "      <td>NZD</td>\n",
       "      <td>3.015937e+04</td>\n",
       "      <td>12.355334</td>\n",
       "      <td>2441</td>\n",
       "    </tr>\n",
       "    <tr>\n",
       "      <th>51</th>\n",
       "      <td>ZAR</td>\n",
       "      <td>2.798498e+04</td>\n",
       "      <td>63.602227</td>\n",
       "      <td>440</td>\n",
       "    </tr>\n",
       "    <tr>\n",
       "      <th>24</th>\n",
       "      <td>ILS</td>\n",
       "      <td>1.882362e+04</td>\n",
       "      <td>39.134345</td>\n",
       "      <td>481</td>\n",
       "    </tr>\n",
       "    <tr>\n",
       "      <th>15</th>\n",
       "      <td>DOP</td>\n",
       "      <td>1.850000e+04</td>\n",
       "      <td>222.891566</td>\n",
       "      <td>83</td>\n",
       "    </tr>\n",
       "    <tr>\n",
       "      <th>21</th>\n",
       "      <td>HNL</td>\n",
       "      <td>1.820500e+04</td>\n",
       "      <td>71.673228</td>\n",
       "      <td>254</td>\n",
       "    </tr>\n",
       "    <tr>\n",
       "      <th>0</th>\n",
       "      <td>AED</td>\n",
       "      <td>1.751939e+04</td>\n",
       "      <td>52.141042</td>\n",
       "      <td>336</td>\n",
       "    </tr>\n",
       "    <tr>\n",
       "      <th>50</th>\n",
       "      <td>UYU</td>\n",
       "      <td>1.374000e+04</td>\n",
       "      <td>117.435897</td>\n",
       "      <td>117</td>\n",
       "    </tr>\n",
       "    <tr>\n",
       "      <th>41</th>\n",
       "      <td>RON</td>\n",
       "      <td>1.309284e+04</td>\n",
       "      <td>29.160000</td>\n",
       "      <td>449</td>\n",
       "    </tr>\n",
       "    <tr>\n",
       "      <th>5</th>\n",
       "      <td>BOB</td>\n",
       "      <td>1.215900e+04</td>\n",
       "      <td>16.320805</td>\n",
       "      <td>745</td>\n",
       "    </tr>\n",
       "    <tr>\n",
       "      <th>9</th>\n",
       "      <td>CHF</td>\n",
       "      <td>1.038672e+04</td>\n",
       "      <td>12.350440</td>\n",
       "      <td>841</td>\n",
       "    </tr>\n",
       "    <tr>\n",
       "      <th>44</th>\n",
       "      <td>SAR</td>\n",
       "      <td>8.347360e+03</td>\n",
       "      <td>26.926968</td>\n",
       "      <td>310</td>\n",
       "    </tr>\n",
       "    <tr>\n",
       "      <th>19</th>\n",
       "      <td>GTQ</td>\n",
       "      <td>6.347990e+03</td>\n",
       "      <td>30.373158</td>\n",
       "      <td>209</td>\n",
       "    </tr>\n",
       "    <tr>\n",
       "      <th>22</th>\n",
       "      <td>HRK</td>\n",
       "      <td>6.210000e+03</td>\n",
       "      <td>43.732394</td>\n",
       "      <td>142</td>\n",
       "    </tr>\n",
       "    <tr>\n",
       "      <th>16</th>\n",
       "      <td>EGP</td>\n",
       "      <td>5.330000e+03</td>\n",
       "      <td>50.283019</td>\n",
       "      <td>106</td>\n",
       "    </tr>\n",
       "    <tr>\n",
       "      <th>47</th>\n",
       "      <td>TRY</td>\n",
       "      <td>4.729780e+03</td>\n",
       "      <td>36.382923</td>\n",
       "      <td>130</td>\n",
       "    </tr>\n",
       "    <tr>\n",
       "      <th>7</th>\n",
       "      <td>BYN</td>\n",
       "      <td>3.083510e+03</td>\n",
       "      <td>10.488129</td>\n",
       "      <td>294</td>\n",
       "    </tr>\n",
       "    <tr>\n",
       "      <th>33</th>\n",
       "      <td>NIO</td>\n",
       "      <td>2.655000e+03</td>\n",
       "      <td>73.750000</td>\n",
       "      <td>36</td>\n",
       "    </tr>\n",
       "    <tr>\n",
       "      <th>4</th>\n",
       "      <td>BGN</td>\n",
       "      <td>2.502240e+03</td>\n",
       "      <td>27.198261</td>\n",
       "      <td>92</td>\n",
       "    </tr>\n",
       "    <tr>\n",
       "      <th>30</th>\n",
       "      <td>MAD</td>\n",
       "      <td>2.200000e+03</td>\n",
       "      <td>1100.000000</td>\n",
       "      <td>2</td>\n",
       "    </tr>\n",
       "    <tr>\n",
       "      <th>40</th>\n",
       "      <td>QAR</td>\n",
       "      <td>1.977570e+03</td>\n",
       "      <td>116.327647</td>\n",
       "      <td>17</td>\n",
       "    </tr>\n",
       "    <tr>\n",
       "      <th>28</th>\n",
       "      <td>KES</td>\n",
       "      <td>6.000000e+02</td>\n",
       "      <td>200.000000</td>\n",
       "      <td>3</td>\n",
       "    </tr>\n",
       "    <tr>\n",
       "      <th>3</th>\n",
       "      <td>BAM</td>\n",
       "      <td>7.800000e+01</td>\n",
       "      <td>4.875000</td>\n",
       "      <td>16</td>\n",
       "    </tr>\n",
       "  </tbody>\n",
       "</table>\n",
       "</div>"
      ],
      "text/plain": [
       "   Currency  Total Amount  Average Amount    Count\n",
       "27      JPY  1.934544e+09     1215.807276  1591160\n",
       "29      KRW  3.620305e+08    12160.099993    29772\n",
       "48      TWD  4.186760e+07      186.868056   224049\n",
       "10      CLP  2.363030e+07     2863.585070     8252\n",
       "11      COP  2.026196e+07    11120.721734     1822\n",
       "37      PHP  5.117774e+06      193.987358    26382\n",
       "43      RUB  3.789804e+06      254.502958    14891\n",
       "39      PYG  3.435000e+06    20205.882353      170\n",
       "20      HKD  3.203793e+06       66.386088    48260\n",
       "49      USD  2.486775e+06       12.027292   206761\n",
       "1       ARS  2.386046e+06      128.510048    18567\n",
       "12      CRC  2.015693e+06     2716.567385      742\n",
       "23      HUF  1.286267e+06     3033.648585      424\n",
       "31      MXN  8.722181e+05       59.626612    14628\n",
       "25      INR  4.546355e+05      263.099265     1728\n",
       "8       CAD  3.452230e+05       12.578263    27446\n",
       "45      SEK  2.989935e+05      123.653222     2418\n",
       "32      MYR  2.846231e+05       17.613904    16159\n",
       "2       AUD  2.780597e+05       13.232119    21014\n",
       "46      SGD  2.340961e+05       12.110506    19330\n",
       "17      EUR  1.990754e+05       10.301443    19325\n",
       "34      NOK  1.479396e+05      162.036824      913\n",
       "42      RSD  1.382840e+05      668.038647      207\n",
       "13      CZK  1.304133e+05      120.196590     1085\n",
       "26      ISK  1.228790e+05     1117.081818      110\n",
       "6       BRL  1.000019e+05       12.231155     8176\n",
       "18      GBP  9.634840e+04        9.127359    10556\n",
       "14      DKK  6.609975e+04       85.732490      771\n",
       "38      PLN  6.425525e+04       37.163245     1729\n",
       "36      PEN  5.574240e+04        6.863982     8121\n",
       "35      NZD  3.015937e+04       12.355334     2441\n",
       "51      ZAR  2.798498e+04       63.602227      440\n",
       "24      ILS  1.882362e+04       39.134345      481\n",
       "15      DOP  1.850000e+04      222.891566       83\n",
       "21      HNL  1.820500e+04       71.673228      254\n",
       "0       AED  1.751939e+04       52.141042      336\n",
       "50      UYU  1.374000e+04      117.435897      117\n",
       "41      RON  1.309284e+04       29.160000      449\n",
       "5       BOB  1.215900e+04       16.320805      745\n",
       "9       CHF  1.038672e+04       12.350440      841\n",
       "44      SAR  8.347360e+03       26.926968      310\n",
       "19      GTQ  6.347990e+03       30.373158      209\n",
       "22      HRK  6.210000e+03       43.732394      142\n",
       "16      EGP  5.330000e+03       50.283019      106\n",
       "47      TRY  4.729780e+03       36.382923      130\n",
       "7       BYN  3.083510e+03       10.488129      294\n",
       "33      NIO  2.655000e+03       73.750000       36\n",
       "4       BGN  2.502240e+03       27.198261       92\n",
       "30      MAD  2.200000e+03     1100.000000        2\n",
       "40      QAR  1.977570e+03      116.327647       17\n",
       "28      KES  6.000000e+02      200.000000        3\n",
       "3       BAM  7.800000e+01        4.875000       16"
      ]
     },
     "execution_count": 51,
     "metadata": {},
     "output_type": "execute_result"
    }
   ],
   "source": [
    "# Amount and Currency Analysis\n",
    "currency_summary = pandas_df_combined_superchats.groupby('currency')['amount'].agg(['sum', 'mean', 'count']).reset_index()\n",
    "currency_summary.columns = ['Currency', 'Total Amount', 'Average Amount', 'Count']\n",
    "currency_summary = currency_summary.sort_values(by='Total Amount', ascending=False)\n",
    "\n",
    "print(\"Currency Summary:\")\n",
    "currency_summary"
   ]
  },
  {
   "cell_type": "code",
   "execution_count": 52,
   "id": "fef71869-8d9f-4751-81aa-b8e9d44c1991",
   "metadata": {
    "execution": {
     "iopub.execute_input": "2024-11-04T15:20:02.525814Z",
     "iopub.status.busy": "2024-11-04T15:20:02.525615Z",
     "iopub.status.idle": "2024-11-04T15:20:02.534613Z",
     "shell.execute_reply": "2024-11-04T15:20:02.533373Z",
     "shell.execute_reply.started": "2024-11-04T15:20:02.525796Z"
    }
   },
   "outputs": [],
   "source": [
    "exchange_rates = {\n",
    "    'AED': 0.27,      # United Arab Emirates Dirham\n",
    "    'ARS': 0.0028,    # Argentine Peso\n",
    "    'AUD': 0.64,      # Australian Dollar\n",
    "    'BAM': 0.55,      # Bosnia-Herzegovina Convertible Mark\n",
    "    'BGN': 0.55,      # Bulgarian Lev\n",
    "    'BOB': 0.14,      # Bolivian Boliviano\n",
    "    'BRL': 0.20,      # Brazilian Real\n",
    "    'BYN': 0.39,      # Belarusian Ruble\n",
    "    'CAD': 0.73,      # Canadian Dollar\n",
    "    'CHF': 1.1,       # Swiss Franc\n",
    "    'CLP': 0.0011,    # Chilean Peso\n",
    "    'COP': 0.00025,   # Colombian Peso\n",
    "    'CRC': 0.0019,    # Costa Rican Colón\n",
    "    'CZK': 0.043,     # Czech Koruna\n",
    "    'DKK': 0.14,      # Danish Krone\n",
    "    'DOP': 0.017,     # Dominican Peso\n",
    "    'EGP': 0.032,     # Egyptian Pound\n",
    "    'EUR': 1.07,      # Euro\n",
    "    'GBP': 1.23,      # British Pound\n",
    "    'GTQ': 0.13,      # Guatemalan Quetzal\n",
    "    'HKD': 0.13,      # Hong Kong Dollar\n",
    "    'HNL': 0.041,     # Honduran Lempira\n",
    "    'HRK': 0.14,      # Croatian Kuna\n",
    "    'HUF': 0.0027,    # Hungarian Forint\n",
    "    'ILS': 0.26,      # Israeli New Shekel\n",
    "    'INR': 0.012,     # Indian Rupee\n",
    "    'ISK': 0.0074,    # Icelandic Króna\n",
    "    'JPY': 0.0067,    # Japanese Yen\n",
    "    'KES': 0.0066,    # Kenyan Shilling\n",
    "    'KRW': 0.00076,   # South Korean Won\n",
    "    'MAD': 0.10,      # Moroccan Dirham\n",
    "    'MXN': 0.056,     # Mexican Peso\n",
    "    'MYR': 0.21,      # Malaysian Ringgit\n",
    "    'NIO': 0.027,     # Nicaraguan Córdoba\n",
    "    'NOK': 0.09,      # Norwegian Krone\n",
    "    'NZD': 0.58,      # New Zealand Dollar\n",
    "    'PEN': 0.27,      # Peruvian Sol\n",
    "    'PHP': 0.018,     # Philippine Peso\n",
    "    'PLN': 0.24,      # Polish Zloty\n",
    "    'PYG': 0.00014,   # Paraguayan Guarani\n",
    "    'QAR': 0.27,      # Qatari Riyal\n",
    "    'RON': 0.21,      # Romanian Leu\n",
    "    'RSD': 0.0091,    # Serbian Dinar\n",
    "    'RUB': 0.011,     # Russian Ruble\n",
    "    'SAR': 0.27,      # Saudi Riyal\n",
    "    'SEK': 0.092,     # Swedish Krona\n",
    "    'SGD': 0.73,      # Singapore Dollar\n",
    "    'TRY': 0.036,     # Turkish Lira\n",
    "    'TWD': 0.031,     # New Taiwan Dollar\n",
    "    'USD': 1.0,       # United States Dollar\n",
    "    'UYU': 0.025,     # Uruguayan Peso\n",
    "    'ZAR': 0.052      # South African Rand\n",
    "}"
   ]
  },
  {
   "cell_type": "code",
   "execution_count": 53,
   "id": "9e373313-e49f-4895-9651-d2d55ed93d23",
   "metadata": {
    "execution": {
     "iopub.execute_input": "2024-11-04T15:20:02.535535Z",
     "iopub.status.busy": "2024-11-04T15:20:02.535350Z",
     "iopub.status.idle": "2024-11-04T15:20:02.550131Z",
     "shell.execute_reply": "2024-11-04T15:20:02.549125Z",
     "shell.execute_reply.started": "2024-11-04T15:20:02.535517Z"
    }
   },
   "outputs": [
    {
     "name": "stdout",
     "output_type": "stream",
     "text": [
      "Top 5 Currency Summary (in USD):\n"
     ]
    },
    {
     "data": {
      "text/html": [
       "<div>\n",
       "<style scoped>\n",
       "    .dataframe tbody tr th:only-of-type {\n",
       "        vertical-align: middle;\n",
       "    }\n",
       "\n",
       "    .dataframe tbody tr th {\n",
       "        vertical-align: top;\n",
       "    }\n",
       "\n",
       "    .dataframe thead th {\n",
       "        text-align: right;\n",
       "    }\n",
       "</style>\n",
       "<table border=\"1\" class=\"dataframe\">\n",
       "  <thead>\n",
       "    <tr style=\"text-align: right;\">\n",
       "      <th></th>\n",
       "      <th>Currency</th>\n",
       "      <th>Total Amount (USD)</th>\n",
       "      <th>Average Amount</th>\n",
       "      <th>Count</th>\n",
       "    </tr>\n",
       "  </thead>\n",
       "  <tbody>\n",
       "    <tr>\n",
       "      <th>27</th>\n",
       "      <td>JPY</td>\n",
       "      <td>1.296144e+07</td>\n",
       "      <td>1215.807276</td>\n",
       "      <td>1591160</td>\n",
       "    </tr>\n",
       "    <tr>\n",
       "      <th>49</th>\n",
       "      <td>USD</td>\n",
       "      <td>2.486775e+06</td>\n",
       "      <td>12.027292</td>\n",
       "      <td>206761</td>\n",
       "    </tr>\n",
       "    <tr>\n",
       "      <th>48</th>\n",
       "      <td>TWD</td>\n",
       "      <td>1.297896e+06</td>\n",
       "      <td>186.868056</td>\n",
       "      <td>224049</td>\n",
       "    </tr>\n",
       "    <tr>\n",
       "      <th>20</th>\n",
       "      <td>HKD</td>\n",
       "      <td>4.164930e+05</td>\n",
       "      <td>66.386088</td>\n",
       "      <td>48260</td>\n",
       "    </tr>\n",
       "    <tr>\n",
       "      <th>29</th>\n",
       "      <td>KRW</td>\n",
       "      <td>2.751432e+05</td>\n",
       "      <td>12160.099993</td>\n",
       "      <td>29772</td>\n",
       "    </tr>\n",
       "  </tbody>\n",
       "</table>\n",
       "</div>"
      ],
      "text/plain": [
       "   Currency  Total Amount (USD)  Average Amount    Count\n",
       "27      JPY        1.296144e+07     1215.807276  1591160\n",
       "49      USD        2.486775e+06       12.027292   206761\n",
       "48      TWD        1.297896e+06      186.868056   224049\n",
       "20      HKD        4.164930e+05       66.386088    48260\n",
       "29      KRW        2.751432e+05    12160.099993    29772"
      ]
     },
     "execution_count": 53,
     "metadata": {},
     "output_type": "execute_result"
    }
   ],
   "source": [
    "# Adding a USD conversion to the currency_summary DataFrame\n",
    "currency_summary['Total Amount (USD)'] = currency_summary.apply(\n",
    "    lambda row: row['Total Amount'] * exchange_rates.get(row['Currency'], 1), axis=1\n",
    ")\n",
    "\n",
    "# Sort by Total Amount (USD) for the top 5 currencies\n",
    "top_5_currency_summary_usd = currency_summary.sort_values(by='Total Amount (USD)', ascending=False).head(5)\n",
    "\n",
    "print(\"Top 5 Currency Summary (in USD):\")\n",
    "top_5_currency_summary_usd[['Currency', 'Total Amount (USD)', 'Average Amount', 'Count']]"
   ]
  },
  {
   "cell_type": "code",
   "execution_count": 54,
   "id": "dbd800e3-31a7-4cb2-a1a9-6a737e9e46a2",
   "metadata": {
    "execution": {
     "iopub.execute_input": "2024-11-04T15:20:02.551150Z",
     "iopub.status.busy": "2024-11-04T15:20:02.550921Z",
     "iopub.status.idle": "2024-11-04T15:20:02.733587Z",
     "shell.execute_reply": "2024-11-04T15:20:02.732804Z",
     "shell.execute_reply.started": "2024-11-04T15:20:02.551128Z"
    }
   },
   "outputs": [
    {
     "name": "stderr",
     "output_type": "stream",
     "text": [
      "/tmp/ipykernel_26556/305255897.py:6: FutureWarning: \n",
      "\n",
      "Passing `palette` without assigning `hue` is deprecated and will be removed in v0.14.0. Assign the `x` variable to `hue` and set `legend=False` for the same effect.\n",
      "\n",
      "  sns.barplot(\n"
     ]
    },
    {
     "data": {
      "image/png": "[encoded data removed]",
      "text/plain": [
       "<Figure size 1000x600 with 1 Axes>"
      ]
     },
     "metadata": {},
     "output_type": "display_data"
    }
   ],
   "source": [
    "# Set up the top 5 currencies in USD for visualization\n",
    "top_5_currency_summary_usd = currency_summary.sort_values(by='Total Amount (USD)', ascending=False).head(5)\n",
    "\n",
    "# Plot settings\n",
    "plt.figure(figsize=(10, 6))\n",
    "sns.barplot(\n",
    "    data=top_5_currency_summary_usd,\n",
    "    x='Currency',\n",
    "    y='Total Amount (USD)',\n",
    "    palette='viridis'\n",
    ")\n",
    "\n",
    "# Add labels and title\n",
    "plt.title('Top 5 Currencies by Total Amount in USD')\n",
    "plt.xlabel('Currency')\n",
    "plt.ylabel('Total Amount in USD')\n",
    "plt.xticks(rotation=45)\n",
    "plt.show()"
   ]
  },
  {
   "cell_type": "markdown",
   "id": "838720e4-c909-459a-8d8b-c9515f8854f8",
   "metadata": {},
   "source": [
    "### Currency Analysis Context\n",
    "\n",
    "The currency analysis of the VTuber 1B dataset provides insights into the financial engagement patterns of VTuber audiences worldwide. This analysis focuses on three key areas: diverse audience reach, top currency contributions, and distinct engagement patterns across different currencies.\n",
    "\n",
    "#### 1. Diverse Audience Reach\n",
    "The VTuber 1B dataset showcases audience diversity through monetary contributions in various currencies, reflecting the international appeal of VTubers. Each currency indicates specific fan demographics, revealing:\n",
    "\n",
    "- **High-frequency currencies** like JPY, USD, and TWD represent areas with substantial engagement, highlighting the consistent financial support from dedicated viewer bases.\n",
    "- **Broad spectrum of currencies**: Contributions in HKD, KRW, PHP, and others demonstrate a wide fan engagement across different countries, emphasizing VTubers’ global reach.\n",
    "\n",
    "This diversity signifies a unique digital culture that transcends borders, providing valuable insights for VTuber agencies and creators in strategizing content for their geographically diverse audiences.\n",
    "\n",
    "#### 2. Top Currency Contributions (in USD)\n",
    "By converting contributions to USD, we gain a standardized view of financial engagement. The top five currencies based on total contributions are:\n",
    "\n",
    "- **JPY (Japanese Yen)**: The highest total, indicating strong financial backing from Japanese fans, known for their deep-rooted fan culture.\n",
    "- **USD (United States Dollar)**: Significant contributions from a large, engaged English-speaking audience.\n",
    "- **TWD (New Taiwan Dollar)**: Highlights a dedicated viewer base in Taiwan with substantial financial involvement.\n",
    "- **HKD (Hong Kong Dollar)**: Reflects a strong, engaged fanbase in Hong Kong.\n",
    "- **KRW (South Korean Won)**: Shows fewer but larger contributions, indicating a trend of substantial but less frequent transactions.\n",
    "\n",
    "These findings reveal the scale and diversity of support within the VTuber community, allowing creators to better target their audience.\n",
    "\n",
    "#### 3. Patterns of Engagement\n",
    "Distinct patterns emerge in how fans from different regions use superchats, shedding light on cultural differences:\n",
    "\n",
    "- **Japan (JPY)**: High volume of regular, smaller superchats indicates strong emotional connections.\n",
    "- **South Korea (KRW)**: Larger but less frequent contributions suggest substantial single transactions tied to milestones.\n",
    "- **United States (USD)**: Moderate average contributions with high frequency reflect a balanced support approach.\n",
    "- **Taiwan (TWD) and Hong Kong (HKD)**: Similar to Japan, with steady contributions indicating consistent engagement.\n",
    "\n",
    "These regional differences illustrate how cultural factors influence fan interactions with VTubers, enabling creators to tailor content and engagement strategies accordingly."
   ]
  },
  {
   "cell_type": "markdown",
   "id": "5c2d5537-ab11-455a-9876-3a60739fd117",
   "metadata": {},
   "source": [
    "## Exploring Relationships"
   ]
  },
  {
   "cell_type": "code",
   "execution_count": 55,
   "id": "50597865-7dfe-4920-a42e-ec039cac0007",
   "metadata": {
    "execution": {
     "iopub.execute_input": "2024-11-04T15:20:02.734591Z",
     "iopub.status.busy": "2024-11-04T15:20:02.734380Z",
     "iopub.status.idle": "2024-11-04T15:20:03.652502Z",
     "shell.execute_reply": "2024-11-04T15:20:03.651071Z",
     "shell.execute_reply.started": "2024-11-04T15:20:02.734571Z"
    }
   },
   "outputs": [],
   "source": [
    "# Author Engagement Across Channels\n",
    "author_channel_engagement = pandas_df_combined_superchats.groupby('authorChannelId')['channelId'].nunique().reset_index()\n",
    "author_channel_engagement.columns = ['Author Channel ID', 'Distinct Channels']\n",
    "avg_engagement = author_channel_engagement['Distinct Channels'].mean()"
   ]
  },
  {
   "cell_type": "code",
   "execution_count": 56,
   "id": "6599a362-5cb8-47a1-8179-1b46b2c29f19",
   "metadata": {
    "execution": {
     "iopub.execute_input": "2024-11-04T15:20:03.653696Z",
     "iopub.status.busy": "2024-11-04T15:20:03.653485Z",
     "iopub.status.idle": "2024-11-04T15:20:03.660032Z",
     "shell.execute_reply": "2024-11-04T15:20:03.658803Z",
     "shell.execute_reply.started": "2024-11-04T15:20:03.653677Z"
    }
   },
   "outputs": [
    {
     "name": "stdout",
     "output_type": "stream",
     "text": [
      "Average distinct channels engaged by authors: 2.0584771222167735\n"
     ]
    }
   ],
   "source": [
    "print(f\"Average distinct channels engaged by authors: {avg_engagement}\")"
   ]
  },
  {
   "cell_type": "code",
   "execution_count": 57,
   "id": "6b996270-592b-412f-b25f-c518087ae1b3",
   "metadata": {
    "execution": {
     "iopub.execute_input": "2024-11-04T15:20:03.661115Z",
     "iopub.status.busy": "2024-11-04T15:20:03.660927Z",
     "iopub.status.idle": "2024-11-04T15:20:04.913319Z",
     "shell.execute_reply": "2024-11-04T15:20:04.912481Z",
     "shell.execute_reply.started": "2024-11-04T15:20:03.661098Z"
    }
   },
   "outputs": [
    {
     "data": {
      "image/png": "[encoded data removed]",
      "text/plain": [
       "<Figure size 1000x600 with 1 Axes>"
      ]
     },
     "metadata": {},
     "output_type": "display_data"
    }
   ],
   "source": [
    "plt.figure(figsize=(10, 6))\n",
    "sns.histplot(author_channel_engagement['Distinct Channels'], bins=30, kde=True, color='blue')\n",
    "plt.title('Distribution of Distinct Channels Engaged by Authors')\n",
    "plt.xlabel('Number of Distinct Channels')\n",
    "plt.ylabel('Frequency')\n",
    "plt.show()"
   ]
  },
  {
   "cell_type": "code",
   "execution_count": 58,
   "id": "5f12fc7a-1628-40dc-b09f-fffe57a13301",
   "metadata": {
    "execution": {
     "iopub.execute_input": "2024-11-04T15:20:04.914579Z",
     "iopub.status.busy": "2024-11-04T15:20:04.914373Z",
     "iopub.status.idle": "2024-11-04T15:20:04.960200Z",
     "shell.execute_reply": "2024-11-04T15:20:04.958651Z",
     "shell.execute_reply.started": "2024-11-04T15:20:04.914561Z"
    }
   },
   "outputs": [],
   "source": [
    "# Channel Specific Patterns for bans and deletions\n",
    "ban_channel_counts = filtered_df_ban_events.groupBy('channelId').count().orderBy('count', ascending=False)\n",
    "deletion_channel_counts = filtered_df_deletion_events.groupBy('channelId').count().orderBy('count', ascending=False)"
   ]
  },
  {
   "cell_type": "code",
   "execution_count": 59,
   "id": "4d13a023-9162-4e25-8168-3c852434e4b7",
   "metadata": {
    "execution": {
     "iopub.execute_input": "2024-11-04T15:20:04.962678Z",
     "iopub.status.busy": "2024-11-04T15:20:04.962115Z",
     "iopub.status.idle": "2024-11-04T15:20:06.396263Z",
     "shell.execute_reply": "2024-11-04T15:20:06.394655Z",
     "shell.execute_reply.started": "2024-11-04T15:20:04.962625Z"
    }
   },
   "outputs": [
    {
     "name": "stdout",
     "output_type": "stream",
     "text": [
      "Top Channels with Most Bans:\n",
      "+--------------------+-----+\n",
      "|           channelId|count|\n",
      "+--------------------+-----+\n",
      "|UCdn5BQ06XqgXoAxI...|24319|\n",
      "|UC-hM6YJuNYVAmUWx...|10671|\n",
      "|UCCzUftO8KOVkV4wQ...| 8448|\n",
      "|UCajhBT4nMrg3DLS-...| 7373|\n",
      "|UC6tSB9TnO0f01OBe...| 7141|\n",
      "|UCJFZiqLMntJufDCH...| 7021|\n",
      "|UCp-5t9SrOQwXMU7i...| 6508|\n",
      "|UCvInZx9h3jC2JzsI...| 4986|\n",
      "|UCZlDXzGoo7d44bwd...| 4909|\n",
      "|UCyl1z3jo3XHR1riL...| 4558|\n",
      "+--------------------+-----+\n",
      "only showing top 10 rows\n",
      "\n",
      "Top Channels with Most Deletions:\n",
      "+--------------------+-----+\n",
      "|           channelId|count|\n",
      "+--------------------+-----+\n",
      "|UCSFCh5NL4qXrAy9u...|32689|\n",
      "|UC6wvdADTJ88OfIbJ...|29058|\n",
      "|UC1DCedRgGHBdm81E...|27312|\n",
      "|UCmZ1Rbthn-6Jm_qO...|22780|\n",
      "|UC-6rZgmxZSIbq786...|21122|\n",
      "|UCspv01oxUFf_MTSi...|20361|\n",
      "|UCgmFrRcyH7d1zR9s...|19604|\n",
      "|UCvzGlP9oQwU--Y0r...|18664|\n",
      "|UC-hM6YJuNYVAmUWx...|17967|\n",
      "|UC8oPnditPSp5lZu4...|16908|\n",
      "+--------------------+-----+\n",
      "only showing top 10 rows\n",
      "\n"
     ]
    }
   ],
   "source": [
    "# Show the top channels with the most bans\n",
    "print(\"Top Channels with Most Bans:\")\n",
    "ban_channel_counts.show(10)\n",
    "\n",
    "# Show the top channels with the most deletions\n",
    "print(\"Top Channels with Most Deletions:\")\n",
    "deletion_channel_counts.show(10)"
   ]
  },
  {
   "cell_type": "markdown",
   "id": "3cd3180f-e394-4665-8ac4-5844753a57c2",
   "metadata": {},
   "source": [
    "### Top Channels with Most Bans and Deletions\n",
    "\n",
    "**Top Channels with Most Bans:**\n",
    "\n",
    "| Channel ID               | Bans  |\n",
    "|--------------------------|-------|\n",
    "| UCdn5BQ06XqgXoAxI...    | 24,319|\n",
    "| UC-hM6YJuNYVAmUWx...    | 10,671|\n",
    "| UCCzUftO8KOVkV4wQ...    | 8,448 |\n",
    "| UCajhBT4nMrg3DLS-...    | 7,373 |\n",
    "| UC6tSB9TnO0f01OBe...    | 7,141 |\n",
    "\n",
    "**Top Channels with Most Deletions:**\n",
    "\n",
    "| Channel ID               | Deletions |\n",
    "|--------------------------|-----------|\n",
    "| UCSFCh5NL4qXrAy9u...    | 32,689    |\n",
    "| UC6wvdADTJ88OfIbJ...    | 29,058    |\n",
    "| UC1DCedRgGHBdm81E...    | 27,312    |\n",
    "| UCmZ1Rbthn-6Jm_qO...    | 22,780    |\n",
    "| UC-6rZgmxZSIbq786...    | 21,122    |\n",
    "\n",
    "**Insights:**\n",
    "\n",
    "- The channel with the highest number of bans, **UCdn5BQ06XqgXoAxI...**, has 24,319 bans recorded, while the channel with the highest number of deletions, **UCSFCh5NL4qXrAy9u...**, has an even greater count of 32,689 deletions.\n",
    "- Notably, **UC-hM6YJuNYVAmUWx...** appears in both lists, indicating that it has experienced significant moderation activity in the form of both bans and deletions.\n",
    "\n",
    "The dataset is structured to facilitate frequency analysis, focusing on essential columns to optimize loading times in environments like Kaggle Kernels. The bans and deletions recorded correspond to the actions of marking chat items by author as deleted, highlighting the interaction dynamics within VTuber communities."
   ]
  },
  {
   "cell_type": "markdown",
   "id": "b497c193-4f6d-4ec1-9687-56fc71fc2f78",
   "metadata": {},
   "source": [
    "<a id='Problem'></a>\n",
    "<h1 style=\"color:#ffffff; background-color:#FF0000; border: 1px solid #ffffff; padding: 10px 0;\">V. Conclusion </h1>"
   ]
  },
  {
   "cell_type": "markdown",
   "id": "cbbcd006-36fe-40b1-952c-e4df421fa3f9",
   "metadata": {},
   "source": [
    "The ban and deletion events across VTuber live chat streams, combined with the currency analysis and engagement patterns by membership status, provides a comprehensive view of the financial, moderation, and engagement dynamics within the VTuber community. Key findings highlight distinct patterns in moderation activities, audience engagement through superchats, cultural variations in financial contributions, and engagement differences between members and non-members.\n",
    "\n",
    "Moderation analysis shows that deletion events occur significantly more frequently than ban events, especially around midday, aligning with peak viewer engagement times. This suggests a moderation strategy focused on content control, with deletion events used to manage chat content and ban events applied selectively. Additionally, certain channels exhibit notably high moderation activity. Channels with high volumes of bans and deletions may indicate either larger, more active communities or channels that experience frequent disruptive behavior requiring moderation.\n",
    "\n",
    "The currency analysis contextualizes the VTuber community's financial engagement across different regions. With a broad spectrum of currencies, this dataset reflects the global reach of VTubers. High-frequency currencies, such as JPY, USD, and TWD, highlight significant engagement from Japan, the United States, and Taiwan, each showcasing distinct fan behavior. Japanese viewers, for instance, contribute with high volumes of small superchats, suggesting a strong, emotionally connected fanbase, whereas South Korean fans contribute larger, less frequent amounts, indicative of milestone-based support. Channels can leverage these insights to tailor content to the preferences of their geographically diverse audiences.\n",
    "\n",
    "The analysis of message activity by membership status reveals that non-members generate a slightly higher message volume compared to members, suggesting that most chat activity is driven by general viewers rather than paying supporters. However, members contribute a substantial portion of messages, indicating active engagement and the potential value they add to the fanbase. This distinction between member and non-member participation provides valuable insights for VTuber channels in crafting engagement strategies."
   ]
  },
  {
   "cell_type": "code",
   "execution_count": null,
   "id": "38baadf3-2607-4fa0-9fd8-4f5d76d3a11d",
   "metadata": {},
   "outputs": [],
   "source": []
  }
 ],
 "metadata": {
  "kernelspec": {
   "display_name": "Python 3 (ipykernel)",
   "language": "python",
   "name": "python3"
  },
  "language_info": {
   "codemirror_mode": {
    "name": "ipython",
    "version": 3
   },
   "file_extension": ".py",
   "mimetype": "text/x-python",
   "name": "python",
   "nbconvert_exporter": "python",
   "pygments_lexer": "ipython3",
   "version": "3.11.8"
  }
 },
 "nbformat": 4,
 "nbformat_minor": 5
}
